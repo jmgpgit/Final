{
 "cells": [
  {
   "cell_type": "code",
   "execution_count": 1,
   "metadata": {},
   "outputs": [],
   "source": [
    "import numpy as np\n",
    "import networkx as nx\n",
    "import pylab as plt\n",
    "from scipy.stats import norm,uniform,binom,poisson\n",
    "import random\n",
    "from functools import reduce\n",
    "from itertools import product\n",
    "from collections import deque"
   ]
  },
  {
   "cell_type": "code",
   "execution_count": null,
   "metadata": {},
   "outputs": [],
   "source": [
    "def float_range(stop, start=0, step=1):\n",
    "    while start < stop:\n",
    "        yield float(start)\n",
    "        start += step \n",
    "\n",
    "def tuple_eq(tup1,tup2):\n",
    "    return len(set(tup1).union(set(tup2))) == len(tup1) == len(tup2)\n",
    "    \n",
    "def tuple_rev(tup):\n",
    "    return (tup[1],tup[0])\n",
    "\n",
    "def tuple_int(tup1,tup2):\n",
    "    return len(set(tup1).union(set(tup2))) < len(tup1) + len(tup2)"
   ]
  },
  {
   "cell_type": "code",
   "execution_count": 3,
   "metadata": {},
   "outputs": [],
   "source": [
    "class Node:\n",
    "    def __init__(self):\n",
    "        self.id = 0 #id(node) for edge\n",
    "        self.x = None\n",
    "        self.y = None\n",
    "        self.weight = 0\n",
    "    \n",
    "    def __key(self):\n",
    "        return (self.x, self.y, self.id, self.weight)\n",
    "    def __hash__(self) -> int:\n",
    "        return hash(self.__key())\n",
    "    def __eq__(self, o: object) -> bool:\n",
    "        if isinstance(o, Node):\n",
    "            return self.__key() == o.__key()\n",
    "        return False\n",
    "    def __repr__(self) -> str:\n",
    "        return f\"Node(({self.x},{self.y}), id {self.id}, weight {self.weight})\"\n",
    "    def __str__(self) -> str:\n",
    "        return f\"Node ({self.x},{self.y})||id {self.id}||w {self.weight}\"\n",
    "    def __getitem__(self, val = None):\n",
    "        if val == 'id':\n",
    "            return self.id\n",
    "        if val == 'x' or val == 0:\n",
    "            return self.x\n",
    "        if val == 'y' or val == 1:\n",
    "            return self.y\n",
    "        if val == 'w':\n",
    "            return self.weight\n",
    "        return self.__key()\n",
    "    def __setitem__(self, key, value):\n",
    "        if key == 'id':\n",
    "            self.id = value\n",
    "        if key == 'x' or key == 0:\n",
    "            self.x = value\n",
    "        if key == 'y' or key == 1:\n",
    "            self.y = value\n",
    "        if key == 'w':\n",
    "            self.weight = value"
   ]
  },
  {
   "cell_type": "code",
   "execution_count": null,
   "metadata": {},
   "outputs": [],
   "source": [
    "class Node2:\n",
    "    def __init__(self, id = {'x':None , \n",
    "                             'y':None, \n",
    "                             'key':None, \n",
    "                             'weight':0}):\n",
    "        self.id = id\n",
    "        self.x = id['x']\n",
    "        self.y = id['y']\n",
    "        self.weight = id['weight']\n",
    "        self.key = id['key']\n",
    "        \n",
    "class Node3:\n",
    "    def __init__(self, id = None):\n",
    "        self.id = id\n",
    "        self.attr = {}"
   ]
  }
 ],
 "metadata": {
  "kernelspec": {
   "display_name": "Python 3",
   "language": "python",
   "name": "python3"
  },
  "language_info": {
   "codemirror_mode": {
    "name": "ipython",
    "version": 3
   },
   "file_extension": ".py",
   "mimetype": "text/x-python",
   "name": "python",
   "nbconvert_exporter": "python",
   "pygments_lexer": "ipython3",
   "version": "3.11.1"
  },
  "orig_nbformat": 4
 },
 "nbformat": 4,
 "nbformat_minor": 2
}
