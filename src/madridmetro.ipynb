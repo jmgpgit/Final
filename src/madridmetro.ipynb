{
 "cells": [
  {
   "cell_type": "code",
   "execution_count": 12,
   "metadata": {},
   "outputs": [],
   "source": [
    "from classes import *\n",
    "import numpy as np\n",
    "import networkx as nx\n",
    "import pylab as plt\n",
    "from scipy.stats import norm,uniform,binom,poisson\n",
    "import random\n",
    "from functools import reduce\n",
    "from itertools import product\n",
    "from collections import deque\n",
    "import re\n",
    "from time import sleep\n",
    "import json"
   ]
  },
  {
   "cell_type": "code",
   "execution_count": 2,
   "metadata": {},
   "outputs": [
    {
     "name": "stderr",
     "output_type": "stream",
     "text": [
      "[WDM] - Downloading: 16.9kB [00:00, 921kB/s]                    \n",
      "[WDM] - Downloading: 16.9kB [00:00, 23.1MB/s]                   \n",
      "[WDM] - Downloading: 100%|██████████| 1.59M/1.59M [00:07<00:00, 228kB/s] \n"
     ]
    }
   ],
   "source": [
    "import requests as req\n",
    "from bs4 import BeautifulSoup\n",
    "from selenium import webdriver\n",
    "from selenium.webdriver.firefox.options import Options\n",
    "from selenium.webdriver.common.by import By\n",
    "from selenium.webdriver.firefox.service import Service as FirefoxService\n",
    "from selenium.webdriver.firefox.firefox_binary import FirefoxBinary\n",
    "from webdriver_manager.firefox import GeckoDriverManager\n",
    "\n",
    "PATH=FirefoxService(GeckoDriverManager().install())\n",
    "binary = FirefoxBinary(r'C:\\Program Files\\Mozilla Firefox\\Firefox.exe')\n",
    "\n",
    "opciones=Options()"
   ]
  },
  {
   "cell_type": "code",
   "execution_count": 4,
   "metadata": {},
   "outputs": [],
   "source": [
    "line_dict = {}\n",
    "\n",
    "def helper_fn(element):\n",
    "    t = zip([j.get_attribute('title') for i in element.find_elements(By.XPATH, 'tbody/tr') for j in i.find_elements(By.XPATH, 'td/a')],[j.text for i in element.find_elements(By.XPATH, 'tbody/tr') for j in i.find_elements(By.XPATH, 'td/a')])\n",
    "    delete = {('Cercanías Madrid', ''),('Mantenimiento', '')}\n",
    "    t = filter(lambda x: x not in delete, t)\n",
    "    t = list(map(lambda x: re.search(r'\\d+',x[0]).group(0) if bool(re.search(r'\\d+',x[0])) else x[1] , t))\n",
    "    s = []\n",
    "    for i in t:\n",
    "        try:\n",
    "            int(i)\n",
    "        except:\n",
    "            s.append((i,[]))\n",
    "        else:\n",
    "            s[-1][1].append(int(i))\n",
    "    return s\n",
    "\n",
    "def table_extractor(k):\n",
    "    driver = webdriver.Firefox(firefox_binary=binary,options = opciones)\n",
    "    url = 'https://es.wikipedia.org/wiki/L%C3%ADnea_'+ str(k) +'_(Metro_de_Madrid)'\n",
    "    xpath1 = '/html/body/div[3]/div[3]/div[5]/div[1]/table[2]'\n",
    "    xpath2 = '/html/body/div[3]/div[3]/div[5]/div[1]/table[3]'\n",
    "    driver.get(url)\n",
    "    try:\n",
    "        x1 = helper_fn(driver.find_element(By.XPATH, xpath1))\n",
    "    except:\n",
    "        x1 = []\n",
    "    try:\n",
    "        x2 = helper_fn(driver.find_element(By.XPATH, xpath2))\n",
    "    except:\n",
    "        x2 = []\n",
    "    driver.quit()\n",
    "    return [x1,x2]"
   ]
  },
  {
   "cell_type": "code",
   "execution_count": 5,
   "metadata": {},
   "outputs": [
    {
     "name": "stderr",
     "output_type": "stream",
     "text": [
      "C:\\Users\\jorge\\AppData\\Local\\Temp\\ipykernel_16684\\3445140817.py:19: DeprecationWarning: firefox_binary has been deprecated, please pass in a Service object\n",
      "  driver = webdriver.Firefox(firefox_binary=binary,options = opciones)\n"
     ]
    }
   ],
   "source": [
    "for i in range(1,11):\n",
    "    line_dict[i] = table_extractor(i)"
   ]
  },
  {
   "cell_type": "code",
   "execution_count": 30,
   "metadata": {},
   "outputs": [],
   "source": [
    "line_dict_clean = {\n",
    "    1: line_dict[1][0],\n",
    "    2: line_dict[2][0],\n",
    "    3: line_dict[3][0],\n",
    "    4: line_dict[4][1],\n",
    "    5: line_dict[5][1],\n",
    "    6: line_dict[6][0],\n",
    "    7: line_dict[7][1],\n",
    "    # method has an error for line 8\n",
    "    9: line_dict[9][1],\n",
    "    10: line_dict[10][0],\n",
    "}"
   ]
  },
  {
   "cell_type": "code",
   "execution_count": 31,
   "metadata": {},
   "outputs": [
    {
     "name": "stderr",
     "output_type": "stream",
     "text": [
      "C:\\Users\\jorge\\AppData\\Local\\Temp\\ipykernel_16684\\3602081523.py:2: DeprecationWarning: firefox_binary has been deprecated, please pass in a Service object\n",
      "  driver = webdriver.Firefox(firefox_binary=binary,options = opciones)\n"
     ]
    }
   ],
   "source": [
    "#### Special Case for line 8\n",
    "driver = webdriver.Firefox(firefox_binary=binary,options = opciones)\n",
    "url = 'https://es.wikipedia.org/wiki/L%C3%ADnea_8_(Metro_de_Madrid)'\n",
    "xpath2 = '/html/body/div[3]/div[3]/div[5]/div[1]/table[3]'\n",
    "driver.get(url)\n",
    "x = driver.find_element(By.XPATH, xpath2)\n",
    "y = zip([j.get_attribute('title') for i in x.find_elements(By.XPATH, 'tbody/tr') for j in i.find_elements(By.XPATH, 'td/a')],[j.text for i in x.find_elements(By.XPATH, 'tbody/tr') for j in i.find_elements(By.XPATH, 'td/a')])\n",
    "delete = {('Cercanías Madrid', ''),('Mantenimiento', '')}\n",
    "t = list(filter(lambda x: x not in delete, y))\n",
    "r = list(map( lambda x : (x[1],[]) ,t[:4] ))\n",
    "t = t[4:]\n",
    "t = list(map(lambda x: re.search(r'\\d+',x[0]).group(0) if bool(re.search(r'\\d+',x[0])) else x[1] , t))\n",
    "s = []\n",
    "for i in t:\n",
    "    try:\n",
    "        int(i)\n",
    "    except:\n",
    "        s.append((i,[]))\n",
    "    else:\n",
    "        s[-1][1].append(int(i))\n",
    "line_dict_clean[8] = r + s\n",
    "driver.quit()"
   ]
  },
  {
   "cell_type": "code",
   "execution_count": 38,
   "metadata": {},
   "outputs": [],
   "source": [
    "for keys, values in line_dict_clean.items():\n",
    "    line_dict_clean[keys] = list(filter(lambda x: x[0],values))\n",
    "line_dict_clean_copy = {key: value[:] for key, value in line_dict_clean.items()}\n",
    "with open('../data/metromadrid/dict_of_lines.json', 'w') as fp: # backup\n",
    "    json.dump(line_dict_clean_copy, fp)\n",
    "with open('dict_of_lines.json', 'w') as fp: # backup\n",
    "    json.dump(line_dict_clean_copy, fp)"
   ]
  },
  {
   "cell_type": "code",
   "execution_count": 41,
   "metadata": {},
   "outputs": [],
   "source": [
    "with open('../data/metromadrid/dict_of_lines.json', 'r') as fp: # Load path for top 10 song data for each artist in our dataset\n",
    "    line_dict_clean = json.load(fp)\n",
    "    line_dict_clean = {int(key): value for key, value in line_dict_clean.items()}\n"
   ]
  },
  {
   "cell_type": "code",
   "execution_count": 92,
   "metadata": {},
   "outputs": [],
   "source": [
    "line_node_paths = {}\n",
    "for k in range(1,11):\n",
    "    line_node_paths[k] = []\n",
    "    count = 0\n",
    "    for i,j in enumerate(line_dict_clean[k]):\n",
    "        if j[1] or i == 0 or i == len(line_dict_clean[k])-1:\n",
    "            if j[1]:\n",
    "                if j[1][0] >= k:\n",
    "                    line_node_paths[k].append((k,i,count))\n",
    "                else:\n",
    "                    val = reduce(lambda x,y : x if x[0] == j[0] else y,line_dict_clean[j[1][0]])\n",
    "                    line_node_paths[k].append((j[1][0],line_dict_clean[j[1][0]].index(val),count))\n",
    "            else:\n",
    "                line_node_paths[k].append((k,i,count))\n",
    "            count = 0\n",
    "        count += 1\n",
    "\n",
    "nodes = []\n",
    "edges=  []\n",
    "\n",
    "for i in range(1,11):\n",
    "    path = line_node_paths[i]\n",
    "    \n",
    "    for j in range(len(path)-1):\n",
    "        node1 = Node((path[j][0],path[j][1]))\n",
    "        node2 = Node((path[j+1][0],path[j+1][1]))\n",
    "        if node1 not in nodes:\n",
    "            nodes.append(node1)\n",
    "        if node2 not in nodes:\n",
    "            nodes.append(node2)\n",
    "        edges.append(Edge((node1,node2),weight=path[j+1][2]))\n",
    "\n",
    "node_translation = {}\n",
    "for node in nodes:\n",
    "    if node not in node_translation:\n",
    "        node_translation[node] = line_dict_clean[node[0]][node[1]][0]\n",
    "node_reverse_translation = {v: k for k, v in node_translation.items()}\n",
    "network = Network(nodes,edges)"
   ]
  },
  {
   "cell_type": "code",
   "execution_count": 114,
   "metadata": {},
   "outputs": [
    {
     "name": "stdout",
     "output_type": "stream",
     "text": [
      "Legazpi\n",
      "Plaza Elíptica\n",
      "Oporto\n",
      "Casa de Campo\n",
      "Cuatro Caminos\n",
      "17\n"
     ]
    }
   ],
   "source": [
    "x = network.find_path(node_reverse_translation['Legazpi'],node_reverse_translation['Cuatro Caminos'])\n",
    "stations = 0\n",
    "for j,i in enumerate(x):\n",
    "    print(node_translation[i])\n",
    "    if j < len(x)-1:\n",
    "\n",
    "        edge = network.edge_adjacency[i]\n",
    "        for k in edge:\n",
    "            if x[j+1] in k:\n",
    "                stations += k.weight\n",
    "print(stations)"
   ]
  },
  {
   "cell_type": "code",
   "execution_count": 98,
   "metadata": {},
   "outputs": [
    {
     "data": {
      "text/plain": [
       "{'Pinar de Chamartín': Node('1.00', '0.00'),\n",
       " 'Chamartín': Node('1.00', '3.00'),\n",
       " 'Plaza de Castilla': Node('1.00', '5.00'),\n",
       " 'Cuatro Caminos': Node('2.00', '26.00'),\n",
       " 'Bilbao': Node('1.00', '15.00'),\n",
       " 'Tribunal': Node('1.00', '16.00'),\n",
       " 'Gran Vía': Node('1.00', '18.00'),\n",
       " 'Sol': Node('1.00', '19.00'),\n",
       " 'Atocha': Node('1.00', '23.00'),\n",
       " 'Pacífico': Node('1.00', '26.00'),\n",
       " 'Valdecarros': Node('1.00', '40.00'),\n",
       " 'Las Rosas': Node('2.00', '0.00'),\n",
       " 'Ventas': Node('2.00', '7.00'),\n",
       " 'Manuel Becerra': Node('2.00', '9.00'),\n",
       " 'Goya': Node('2.00', '10.00'),\n",
       " 'Príncipe de Vergara': Node('2.00', '11.00'),\n",
       " 'Ópera': Node('2.00', '19.00'),\n",
       " 'Noviciado': Node('2.00', '21.00'),\n",
       " 'San Bernardo': Node('2.00', '22.00'),\n",
       " 'Canal': Node('2.00', '25.00'),\n",
       " 'Moncloa': Node('3.00', '0.00'),\n",
       " 'Argüelles': Node('3.00', '2.00'),\n",
       " 'Callao': Node('3.00', '5.00'),\n",
       " 'Embajadores': Node('3.00', '9.00'),\n",
       " 'Palos de la Frontera': Node('3.00', '10.00'),\n",
       " 'Legazpi': Node('3.00', '14.00'),\n",
       " 'Usera': Node('3.00', '16.00'),\n",
       " 'Villaverde Alto': Node('3.00', '22.00'),\n",
       " 'Getafe': Node('3.00', '23.00'),\n",
       " 'Alonso Martínez': Node('4.00', '6.00'),\n",
       " 'Diego de León': Node('4.00', '14.00'),\n",
       " 'Avenida de América': Node('4.00', '15.00'),\n",
       " 'Ciudad Lineal': Node('4.00', '31.00'),\n",
       " 'Casa de Campo': Node('5.00', '0.00'),\n",
       " 'Oporto': Node('5.00', '10.00'),\n",
       " 'Núñez de Balboa': Node('5.00', '26.00'),\n",
       " 'Pueblo Nuevo': Node('5.00', '33.00'),\n",
       " 'Alameda de Osuna': Node('5.00', '41.00'),\n",
       " 'Laguna': Node('6.00', '0.00'),\n",
       " 'Príncipe Pío': Node('6.00', '5.00'),\n",
       " 'Guzmán el Bueno': Node('6.00', '11.00'),\n",
       " 'Nuevos Ministerios': Node('6.00', '14.00'),\n",
       " 'Sainz de Baranda': Node('6.00', '22.00'),\n",
       " 'Conde de Casal': Node('6.00', '24.00'),\n",
       " 'Plaza Elíptica': Node('6.00', '32.00'),\n",
       " 'Carpetana': Node('6.00', '36.00'),\n",
       " 'Pitis': Node('7.00', '0.00'),\n",
       " 'Gregorio Marañón': Node('7.00', '15.00'),\n",
       " 'Coslada': Node('7.00', '39.00'),\n",
       " 'Aeropuerto T4': Node('8.00', '0.00'),\n",
       " 'Mar de Cristal': Node('4.00', '25.00'),\n",
       " 'Colombia': Node('8.00', '8.00'),\n",
       " 'Paco de Lucía': Node('9.00', '0.00'),\n",
       " 'Arganda del Rey': Node('9.00', '37.00'),\n",
       " 'Puerta del Sur': Node('10.00', '0.00'),\n",
       " 'Hospital Infanta Sofía': Node('10.00', '38.00')}"
      ]
     },
     "execution_count": 98,
     "metadata": {},
     "output_type": "execute_result"
    }
   ],
   "source": [
    "node_reverse_translation"
   ]
  },
  {
   "cell_type": "code",
   "execution_count": 87,
   "metadata": {},
   "outputs": [],
   "source": []
  },
  {
   "cell_type": "code",
   "execution_count": 91,
   "metadata": {},
   "outputs": [
    {
     "data": {
      "text/plain": [
       "58"
      ]
     },
     "execution_count": 91,
     "metadata": {},
     "output_type": "execute_result"
    }
   ],
   "source": []
  },
  {
   "cell_type": "code",
   "execution_count": null,
   "metadata": {},
   "outputs": [],
   "source": []
  }
 ],
 "metadata": {
  "kernelspec": {
   "display_name": "Python 3",
   "language": "python",
   "name": "python3"
  },
  "language_info": {
   "codemirror_mode": {
    "name": "ipython",
    "version": 3
   },
   "file_extension": ".py",
   "mimetype": "text/x-python",
   "name": "python",
   "nbconvert_exporter": "python",
   "pygments_lexer": "ipython3",
   "version": "3.11.1"
  },
  "orig_nbformat": 4,
  "vscode": {
   "interpreter": {
    "hash": "a7e99fc97798e89b261cde3357a501ac015a62222315f9b6d785016d0b13f1a9"
   }
  }
 },
 "nbformat": 4,
 "nbformat_minor": 2
}
