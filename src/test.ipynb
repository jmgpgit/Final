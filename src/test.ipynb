{
 "cells": [
  {
   "cell_type": "code",
   "execution_count": 28,
   "metadata": {},
   "outputs": [],
   "source": [
    "import numpy as np\n",
    "import networkx as nx\n",
    "import pylab as plt\n",
    "from scipy.stats import norm,uniform,binom,poisson\n",
    "import random\n",
    "from functools import reduce\n",
    "from itertools import product"
   ]
  },
  {
   "cell_type": "code",
   "execution_count": 2,
   "metadata": {},
   "outputs": [],
   "source": [
    "def float_range(stop, start=0, step=1):\n",
    "    while start < stop:\n",
    "        yield float(start)\n",
    "        start += step \n",
    "\n",
    "def tuple_eq(tup1,tup2):\n",
    "    return len(set(tup1).union(set(tup2))) == len(tup1) == len(tup2)\n",
    "    \n",
    "def tuple_rev(tup):\n",
    "    return (tup[1],tup[0])\n",
    "\n",
    "def tuple_int(tup1,tup2):\n",
    "    return len(set(tup1).union(set(tup2))) < len(tup1) + len(tup2)"
   ]
  },
  {
   "cell_type": "code",
   "execution_count": 15,
   "metadata": {},
   "outputs": [],
   "source": [
    "class Node:\n",
    "    def __init__(self, coord:tuple[float], weight:float = 0) -> None:\n",
    "        self.coord = coord # tuple of coordinates\n",
    "        self.weight = weight # weight of node\n",
    "        \n",
    "    def __repr__(self) -> str:\n",
    "        return f\"Node({self.coord:.2f}, Weight{self.weight:.2f})\"\n",
    "    \n",
    "    def __str__(self) -> str:\n",
    "        return f\"{self.coord:.2f}_{self.weight:.2f}\"\n",
    "    \n",
    "    def __eq__(self, other):\n",
    "        return self.coord == other.coord\n",
    "    \n",
    "    def __hash__(self):\n",
    "        return hash(self.coord, self.weight)\n",
    "    \n",
    "    def __lt__(self, other):\n",
    "        return self.weight < other.weight\n",
    "    \n",
    "    def __gt__(self, other):\n",
    "        return self.weight > other.weight\n",
    "    \n",
    "    def __le__(self, other):\n",
    "        return self.weight <= other.weight\n",
    "    \n",
    "    def __ge__(self, other):\n",
    "        return self.weight >= other.weight\n",
    "\n",
    "    def __iter__(self):\n",
    "        return iter(self.coord)\n",
    "    \n",
    "    def __getitem__(self, key):\n",
    "        return self.coord[key]\n",
    "    \n",
    "    def __abs__(self):\n",
    "        return np.sqrt(reduce(lambda a,b : a+b ,map(lambda x: x ** 2, self.coord)))\n",
    "    \n",
    "    def __len__(self):\n",
    "        return len(self.coord)\n",
    "    \n",
    "    def __contains__(self, item):\n",
    "        return item in self.coord\n",
    "    \n",
    "    #############################################\n",
    "    #############################################    \n",
    "    #############################################\n",
    "    # Properties\n",
    "    #############################################\n",
    "    #############################################\n",
    "    #############################################\n",
    "    \n",
    "    @property\n",
    "    def coord(self):\n",
    "        return self._coord\n",
    "    @coord.setter\n",
    "    def coord(self, value) -> None:\n",
    "        self._coord = value\n",
    "        \n",
    "    @property\n",
    "    def weight(self):\n",
    "        return self._weight\n",
    "    @weight.setter\n",
    "    def weight(self, value) -> None:\n",
    "        self._weight = value\n",
    "    \n",
    "    #############################################\n",
    "    #############################################    \n",
    "    #############################################\n",
    "    # Methods\n",
    "    #############################################\n",
    "    #############################################\n",
    "    #############################################\n",
    "    \n",
    "    @classmethod\n",
    "    def from_tuple(cls, tup) -> Self:\n",
    "        return cls(tup[:-1], tup[-1])\n",
    "    \n",
    "    def distance(self, other):\n",
    "        return np.sqrt(reduce(lambda a,b : a+b ,map(lambda x: (x[0] - x[1]) ** 2, zip(self.coord, other.coord))))\n",
    "    \n",
    "    def slope(self, other):\n",
    "        if self[0] == other[0]:\n",
    "            return np.inf\n",
    "        return (other[1] - self[1]) / (other[0] - self[0])\n",
    "    \n",
    "    def intercept(self, other):\n",
    "        if self[0] == other[0]:\n",
    "            return np.nan\n",
    "        return self[1] - self.slope(other) * self[0]\n",
    "    \n",
    "    def equation(self, other):\n",
    "        if self[0] == other[0]:\n",
    "            return f\"x = {self[0]}\"\n",
    "        return f\"y = {self.slope(other)}x + {self.intercept(other)}\"\n",
    "    \n",
    "    def area(self, node1, node2):\n",
    "        return abs((self[0] * (node1[1] - node2[1]) + node1[0] * (node2[1] - self[1]) + node2[0] * (self[1] - node1[1])) / 2)"
   ]
  },
  {
   "cell_type": "code",
   "execution_count": 26,
   "metadata": {},
   "outputs": [],
   "source": [
    "class Edge:\n",
    "    def __init__(self, nodes:tuple, dir:bool = False , weight:float = 1, key:int = 0):\n",
    "        self.nodes = nodes # tuple of two nodes\n",
    "        self.weight = weight # weight of the edge\n",
    "        self.dir = dir # directed or undirected\n",
    "        self.key = key # for multiedges\n",
    "        \n",
    "    def __repr__(self) -> str:\n",
    "        if self.dir:\n",
    "            return f\"Edge({self.nodes[0]} -> {self.nodes[1]}, Weight{self.weight})\" + f\" with Key{self.key}\"*(self.key != 0)\n",
    "        return f\"Edge({self.nodes[0]} <-> {self.nodes[1]}, Weight{self.weight})\" + f\" with Key{self.key}\"*(self.key != 0)\n",
    "    \n",
    "    def __str__(self) -> str:\n",
    "        if self.dir:\n",
    "            return f\"{self.nodes[0]} -> {self.nodes[1]}||{self.weight}\" + f\"||{self.key}\"*(self.key != 0)\n",
    "        return f\"{self.nodes[0]} <-> {self.nodes[1]}||{self.weight}\" + f\"||{self.key}\"*(self.key != 0)\n",
    "\n",
    "    def __eq__(self, other):\n",
    "        return self.nodes == other.nodes and self.dir == other.dir and self.key == other.key\n",
    "    \n",
    "    def __hash__(self):\n",
    "        return hash(self.nodes, self.dir, self.weight, self.key)\n",
    "    \n",
    "    def __lt__(self, other):\n",
    "        if self.nodes != other.nodes:\n",
    "            raise ValueError(\"Edges are not comparable\")\n",
    "        return self.weight < other.weight and self.nodes == other.nodes and self.dir == other.dir\n",
    "    \n",
    "    def __gt__(self, other):\n",
    "        if self.nodes != other.nodes:\n",
    "            raise ValueError(\"Edges are not comparable\")\n",
    "        return self.weight > other.weight and self.nodes == other.nodes and self.dir == other.dir\n",
    "    \n",
    "    def __le__(self, other):\n",
    "        if self.nodes != other.nodes:\n",
    "            raise ValueError(\"Edges are not comparable\")\n",
    "        return self.weight <= other.weight and self.nodes == other.nodes and self.dir == other.dir\n",
    "    \n",
    "    def __ge__(self, other):\n",
    "        if self.nodes != other.nodes:\n",
    "            raise ValueError(\"Edges are not comparable\")\n",
    "        return self.weight >= other.weight and self.nodes == other.nodes and self.dir == other.dir\n",
    "    \n",
    "    def __iter__(self):\n",
    "        return iter(self.nodes)\n",
    "    \n",
    "    def __getitem__(self, key):\n",
    "        return self.nodes[key]\n",
    "    \n",
    "    def __abs__(self):\n",
    "        return self.nodes[0].distance(self.nodes[1])\n",
    "    \n",
    "    def __neg__(self):\n",
    "        if self.dir:\n",
    "            return Edge(tuple_rev(self.nodes), self.dir, self.weight, self.key)\n",
    "        else:\n",
    "            raise ValueError(\"Undirected Edge\")\n",
    "        \n",
    "    def __contains__(self, item) -> bool:\n",
    "        return item in self.nodes\n",
    "    \n",
    "    #############################################\n",
    "    #############################################    \n",
    "    #############################################\n",
    "    # Properties\n",
    "    #############################################\n",
    "    #############################################\n",
    "    #############################################\n",
    "    \n",
    "    @property\n",
    "    def nodes(self):\n",
    "        return self._nodes\n",
    "    @nodes.setter\n",
    "    def nodes(self, value):\n",
    "        self._nodes = value\n",
    "    \n",
    "    @property\n",
    "    def weight(self):\n",
    "        return self._weight\n",
    "    @weight.setter\n",
    "    def weight(self, value):\n",
    "        self._weight = value\n",
    "        \n",
    "    @property\n",
    "    def dir(self):\n",
    "        return self._dir\n",
    "    @dir.setter\n",
    "    def dir(self, value):\n",
    "        self._dir = value\n",
    "        \n",
    "    @property\n",
    "    def key(self):\n",
    "        return self._key\n",
    "    @key.setter\n",
    "    def key(self, value):\n",
    "        self._key = value\n",
    "        \n",
    "    #############################################\n",
    "    #############################################    \n",
    "    #############################################\n",
    "    # Methods\n",
    "    #############################################\n",
    "    #############################################\n",
    "    #############################################\n",
    "    \n",
    "    @classmethod\n",
    "    def new_edge(cls, node1, node2, dir:bool = False, weight:float = 1, key:int = 0):\n",
    "        return cls((node1, node2), dir, weight, key)\n",
    "    \n",
    "    @classmethod\n",
    "    def reverse_edge(cls, edge):\n",
    "        return cls(tuple_rev(edge.nodes), edge.dir, edge.weight, edge.key)\n",
    "    \n",
    "    def other(self, node):\n",
    "        if node not in self.nodes:\n",
    "            raise ValueError(\"Node not in Edge\")\n",
    "        return self.nodes[1] if self.nodes[0] == node else self.nodes[0]\n",
    "    \n",
    "    def extremes(self):\n",
    "        return self.nodes\n",
    "    \n",
    "    def is_loop(self):\n",
    "        return self.nodes[0] == self.nodes[1]\n",
    "    \n",
    "    def is_multi(self, other):\n",
    "        return tuple_eq(self.nodes,other.nodes) and self.dir == other.dir\n",
    "    \n",
    "    def is_parallel(self, other):\n",
    "        if self.dir and other.dir:\n",
    "            return self.nodes == other.nodes\n",
    "        elif self.dir or other.dir:\n",
    "            return False\n",
    "        else:\n",
    "            return tuple_eq(self.nodes,other.nodes)\n",
    "        \n",
    "    def is_anti_parallel(self, other):\n",
    "        if self.dir and other.dir:\n",
    "            return self.nodes == tuple_rev(other.nodes)\n",
    "        elif self.dir or other.dir:\n",
    "            return False\n",
    "        else:\n",
    "            return tuple_eq(self.nodes,other.nodes)\n",
    "        \n",
    "    def is_adjacent(self, other) -> bool:\n",
    "        return tuple_int(self.nodes,other.nodes)\n",
    "\n",
    "    def flip(self) -> Edge:\n",
    "        return -self\n",
    "    \n",
    "    def raise_key(self):\n",
    "        self.key += 1"
   ]
  },
  {
   "cell_type": "code",
   "execution_count": 33,
   "metadata": {},
   "outputs": [],
   "source": [
    "class Network:\n",
    "    def __init__(self, nodes = None, edges = None):\n",
    "        self.nodes = nodes if nodes else []\n",
    "        self.edges = edges if edges else []\n",
    "        self.adjacency = { node : [] for node in self.nodes }\n",
    "        for edge in self.edges:\n",
    "            self.adjacency[edge[0]].append(edge[1])\n",
    "            if not edge.dir:\n",
    "                self.adjacency[edge[1]].append(edge[0])\n",
    "    \n",
    "    def __repr__(self,draw = False) -> str:\n",
    "        if draw:\n",
    "            self.draw()\n",
    "        line_break = '=-=-=-=-=-=-=-=-=-=-=-=-=-=-=-=-=-=-=-=-=-=-=-=-=-=-=-=-=-=-=-=-=-=-=-='\n",
    "        return line_break + '\\n' + \\\n",
    "                f\"Network with {len(self.nodes)} Nodes and {len(self.edges)} Edges\\n\" + \\\n",
    "                line_break + '\\n' + \\\n",
    "                'Nodes:\\n' + '\\n'.join([str(node) for node in self.nodes]) + '\\n' + \\\n",
    "                line_break + '\\n' + \\\n",
    "                'Edges:\\n' + '\\n'.join([str(edge) for edge in self.edges]) + '\\n'\n",
    "                \n",
    "    def __str__(self) -> str:\n",
    "        return self.__repr__(draw=False)\n",
    "    \n",
    "    def __iter__(self):\n",
    "        return iter(self.nodes)\n",
    "    \n",
    "    def __getitem__(self, key):\n",
    "        return self.nodes[key]\n",
    "    \n",
    "    def __len__(self):\n",
    "        return len(self.nodes)\n",
    "    \n",
    "    def __contains__(self, item) -> bool:\n",
    "        try:\n",
    "            return item in self.nodes\n",
    "        except:\n",
    "            try:\n",
    "                return item in self.edges\n",
    "            except:\n",
    "                False\n",
    "\n",
    "    def __hash__(self) -> int:\n",
    "        return hash(self.nodes, self.edges)\n",
    "    \n",
    "    def __eq__(self, other) -> bool:\n",
    "        return self.nodes == other.nodes and self.edges == other.edges\n",
    "    \n",
    "    def __ne__(self, other) -> bool:\n",
    "        return self.nodes != other.nodes or self.edges != other.edges\n",
    "    \n",
    "    def __add__(self, other):\n",
    "        return Network(self.nodes + other.nodes, self.edges + other.edges)\n",
    "    \n",
    "    def __sub__(self, other):\n",
    "        return Network([node for node in self.nodes if node not in other.nodes], [edge for edge in self.edges if edge not in other.edges])\n",
    "    \n",
    "    #############################################\n",
    "    #############################################    \n",
    "    #############################################\n",
    "    # Properties\n",
    "    #############################################\n",
    "    #############################################\n",
    "    #############################################\n",
    "    \n",
    "    @property\n",
    "    def nodes(self):\n",
    "        return self._nodes \n",
    "    @nodes.setter\n",
    "    def nodes(self, value):\n",
    "        self._nodes = value\n",
    "\n",
    "    @property\n",
    "    def edges(self):\n",
    "        return self._edges\n",
    "    @edges.setter\n",
    "    def edges(self, value):\n",
    "        self._edges = value\n",
    "        \n",
    "    #############################################\n",
    "    #############################################    \n",
    "    #############################################\n",
    "    # Methods\n",
    "    #############################################\n",
    "    #############################################\n",
    "    #############################################\n",
    "    \n",
    "    #############################################\n",
    "    # Change/Compare Properties\n",
    "    #############################################\n",
    "    \n",
    "        \n",
    "    def adjacent_edges(self, node) -> list:\n",
    "        return [edge for edge in self.edges if node in edge]\n",
    "    \n",
    "    def get_edges(self, node1, node2) -> Edge:\n",
    "        return [edge for edge in self.edges if node1 in edge and node2 in edge] \n",
    "\n",
    "    def change_node_weight(self, node, weight):\n",
    "        if node not in self.nodes:\n",
    "            raise ValueError(\"Node not in Network\")\n",
    "        node.weight = weight\n",
    "        \n",
    "    def change_node_weights(self, weight_func):\n",
    "        for node in self.nodes:\n",
    "            node.weight = weight_func(node)\n",
    "            \n",
    "    def change_edge_weight(self, edge, weight):\n",
    "        if edge not in self.edges:\n",
    "            raise ValueError(\"Edge not in Network\")\n",
    "        edge.weight = weight\n",
    "        \n",
    "    def change_edge_weights(self, weight_func):\n",
    "        for edge in self.edges:\n",
    "            edge.weight = weight_func(edge)\n",
    "    \n",
    "    def func_node_compare(self, func, node, reduce = False):\n",
    "        comparable = self.adjacency[node].copy()\n",
    "        if reduce:\n",
    "            return func(comparable)\n",
    "        return map(func,comparable)\n",
    "    \n",
    "    def func_edge_compare(self, func, node1, node2, reduce = False):\n",
    "        if node1 not in self.nodes or node2 not in self.nodes:\n",
    "            raise ValueError(\"Node not in Network\")\n",
    "        elif node2 not in self.adjacency[node1] and node1 not in self.adjacency[node2]:\n",
    "            raise ValueError(\"Nodes are not adjacent\")\n",
    "        else:\n",
    "            edges = self.get_edges(node1,node2)\n",
    "            if reduce:\n",
    "                return func(edges)\n",
    "            else:\n",
    "                return map(func,edges)\n",
    "    \n",
    "    #############################################\n",
    "    # Add/Remove Nodes/Edges\n",
    "    #############################################\n",
    "     \n",
    "    def add_node(self, node):\n",
    "        if node not in self.nodes:\n",
    "            self.nodes.append(node)\n",
    "            self.adjacency[node] = []\n",
    "        else:\n",
    "            raise ValueError(\"Node already in Network\")\n",
    "        \n",
    "    def add_nodes(self, nodes):\n",
    "        for node in nodes:\n",
    "            self.add_node(node)\n",
    "    \n",
    "    def add_edge(self, edge):\n",
    "        if edge not in self.edges:\n",
    "            self.edges.append(edge)\n",
    "            self.adjacency[edge[0]].append(edge[1])\n",
    "            if not edge.dir:\n",
    "                self.adjacency[edge[1]].append(edge[0])\n",
    "        else:\n",
    "            self.add_edge(edge.raise_key())\n",
    "    \n",
    "    def add_edges(self, edges):\n",
    "        for edge in edges:\n",
    "            self.add_edge(edge)\n",
    "            \n",
    "    def remove_node(self, node):\n",
    "        if node in self.nodes:\n",
    "            self.nodes.remove(node)\n",
    "            opposites = self.adjacency.pop(node)\n",
    "            for opposite in opposites:\n",
    "                self.adjacency[opposite].remove(node)\n",
    "            for edge in self.edges:\n",
    "                if node in edge:\n",
    "                    self.edges.remove(edge)\n",
    "        else:\n",
    "            raise ValueError(\"Node not in Network\")\n",
    "        \n",
    "    def remove_nodes(self, nodes):\n",
    "        for node in nodes:\n",
    "            self.remove_node(node)\n",
    "            \n",
    "    def remove_edge(self, edge):\n",
    "        if edge in self.edges:\n",
    "            self.edges.remove(edge)\n",
    "            self.adjacency[edge[0]].remove(edge[1])\n",
    "            if not edge.dir:\n",
    "                self.adjacency[edge[1]].remove(edge[0])\n",
    "        else:\n",
    "            raise ValueError(\"Edge not in Network\")\n",
    "        \n",
    "    def remove_edges(self, edges):\n",
    "        for edge in edges:\n",
    "            self.remove_edge(edge)\n",
    "    \n",
    "    #############################################\n",
    "    # Components\n",
    "    #############################################\n",
    "\n",
    "    def complete_edge_subnetwork(self, nodes:list):\n",
    "        edges = []\n",
    "        for node1,node2 in product(nodes,nodes):\n",
    "            edges.extend(self.get_edges(node1,node2))\n",
    "        return Network(nodes,edges)\n",
    "            \n",
    "    def maximal_subnetwork(self, node):\n",
    "        nodes = {node}\n",
    "        traced = set()\n",
    "        while nodes:\n",
    "            node = nodes.pop()\n",
    "            traced.add(node)\n",
    "            for i in self.adjacency[node]:\n",
    "                if i not in traced:\n",
    "                    nodes.add(i)\n",
    "        traced = list(traced)\n",
    "        return self.complete_edge_subnetwork(traced)\n",
    "    \n",
    "    def maximal_subnetworks(self):\n",
    "        traced = set()\n",
    "        networks = []\n",
    "        for node in self.nodes:\n",
    "            if node not in traced:\n",
    "                network = self.maximal_subnetwork(node)\n",
    "                traced.update(network.nodes)\n",
    "                networks.append(network)\n",
    "        return networks\n",
    "\n",
    "    def create_subnetwork(self, nodes, edges):\n",
    "        return Network(nodes, edges)         \n",
    "    \n",
    "    def links_between(self, subnet1, subnet2):\n",
    "        links = []\n",
    "        for node1,node2 in product(subnet1.nodes,subnet2.nodes):\n",
    "            links.extend(self.get_edges(node1,node2))\n",
    "        return links\n",
    "    \n",
    "    def remove_all_edges(self):\n",
    "        self.edges = []\n",
    "        for node in self.nodes:\n",
    "            self.adjacency[node] = []\n",
    "        \n",
    "    def max_key(self, node1, node2):\n",
    "        return max(self.func_edge_compare(lambda x : x.weight , node1, node2, reduce = False))\n",
    "        \n",
    "    def create_edge(self, node1, node2, dir = False, weight = 1):\n",
    "        if node1 not in self.nodes or node2 not in self.nodes:\n",
    "            raise ValueError(\"Node not in Network\")\n",
    "        elif not self.get_edges(node1,node2):\n",
    "            self.add_edge(Edge(node1, node2, dir, weight))\n",
    "        else:\n",
    "            key = self.max_key(node1, node2)\n",
    "            self.add_edge(Edge(node1, node2, dir = dir, weight = weight, key = key + 1))\n",
    "\n",
    "    def complete_network(self):\n",
    "        return Network(self.nodes, [Edge(node1, node2, dir = False, weight = 1) for node1, node2 in product(self.nodes, self.nodes)])\n",
    "\n",
    "    def is_isolated(self, node) -> bool:\n",
    "        return self.adjacency[node] == []\n",
    "    \n",
    "    def has_loop(self, node) -> bool:\n",
    "        return node in self.adjacency[node]\n",
    "    \n",
    "    def is_connected(self) -> bool:\n",
    "        return len(self.maximal_subnetworks()) == 1\n",
    "    \n",
    "    def is_complete(self) -> bool:\n",
    "        return all(self.degree(node) == len(self.nodes) - 1 for node in self.nodes)\n",
    "    \n",
    "    def is_tree(self) -> bool:\n",
    "        return self.is_connected() and not any(self.has_loop(node) for node in self.nodes)\n",
    "    \n",
    "    def degree(self, node) -> int:\n",
    "        return len(self.adjacency[node])\n",
    "    \n",
    "    #############################################\n",
    "    # Paths\n",
    "    #############################################\n",
    "    \n",
    "    def is_path(self, nodes):\n",
    "        return all(nodes[i+1] in self.adjacency[nodes[i]] for i in range(len(nodes)-1))\n",
    "    \n",
    "    def reconstruct_path(self, node1, node2, node_pool, consumed = set(),  path = None):\n",
    "        if path is None:\n",
    "            path = [node1]\n",
    "        if node2 in self.adjacency[node1]:\n",
    "            return path.extend([node2])\n",
    "        else:\n",
    "            for i in node_pool:\n",
    "                if i not in consumed and i in self.adjacency[node1]:\n",
    "                    path.append(i)\n",
    "                    consumed.add(i)\n",
    "                    return self.reconstruct_path(i, node2, node_pool, consumed, path)\n",
    "    \n",
    "    def get_path(self, node1, node2, proximity = None):\n",
    "        if node1 not in self.nodes or node2 not in self.nodes:\n",
    "            raise ValueError(\"Node not in Network\")\n",
    "        elif node1 == node2:\n",
    "            return [node1]\n",
    "        elif node1 not in self.maximal_subnetwork(node2).nodes:\n",
    "            return []\n",
    "        if not proximity:\n",
    "            proximity = {node1}\n",
    "        proximity = proximity.union(self.adjacency[node1])\n",
    "        if node2 in proximity:\n",
    "            return self.reconstruct_path(node1, node2, proximity)\n",
    "        else:\n",
    "            for i in proximity:\n",
    "                path = self.get_path(i, node2, proximity)\n",
    "                if path:\n",
    "                    return self.reconstruct_path(node1, i, proximity).extend(path)\n",
    "\n",
    "    \n",
    "    class Path:\n",
    "        def __init__(self, network, path: list[Node]):\n",
    "            self.network = network\n",
    "            self.path = path\n",
    "            \n",
    "    "
   ]
  },
  {
   "cell_type": "code",
   "execution_count": 107,
   "metadata": {},
   "outputs": [
    {
     "data": {
      "text/plain": [
       "[23, 94, 98, 51, 21, 6, 3, 55, 91, 32]"
      ]
     },
     "execution_count": 107,
     "metadata": {},
     "output_type": "execute_result"
    }
   ],
   "source": [
    "random.sample(range(1, 100), 10) #without replacement\n",
    "random.choices(range(1, 100), k=10) #with replacement"
   ]
  },
  {
   "cell_type": "code",
   "execution_count": 312,
   "metadata": {},
   "outputs": [],
   "source": [
    "def vertex_generator(n , centred = False ,centred_around = (0,0), radius = 1 ,key = None ,random = False ,weighted = False):\n",
    "    vertices = []\n",
    "    if key == 'normal':\n",
    "        sample_x = norm(loc = centred_around[0], scale = radius).rvs(n)\n",
    "        sample_y = norm(loc = centred_around[1], scale = radius).rvs(n)\n",
    "        vertices = [Vertex(sample_x[i], sample_y[i]) for i in range(n)]\n",
    "    return vertices\n",
    "\n",
    "def edge_generator(vertices, mu = 1 ,directed = False, weighted = False, key = None):\n",
    "    edges = []\n",
    "    unloop = lambda verts , vert : [v for v in verts if v != vert]\n",
    "    nodes = len(vertices)\n",
    "    vertices = vertices.copy()\n",
    "    if key == 'uniform':\n",
    "        for vertex in vertices:\n",
    "            edge_number = max(random.randint(1, nodes-1) // (((nodes - 2) //(mu + 1))) , 0)\n",
    "            edge_end = random.sample(unloop(vertices,vertex), edge_number)\n",
    "            for i in edge_end:\n",
    "                edges.append(Edge(vertex, i))\n",
    "    elif key == 'poisson':\n",
    "        while vertices:\n",
    "            vertex = vertices.pop()\n",
    "            edge_number = min(poisson.rvs(mu = mu, loc = 1,size = 1)[0], len(vertices))\n",
    "            edge_end = random.sample(vertices, edge_number)\n",
    "            print(vertex, edge_number,edge_end)\n",
    "            for i in edge_end:\n",
    "                edges.append(Edge(vertex, i))\n",
    "\n",
    "    return edges"
   ]
  },
  {
   "cell_type": "code",
   "execution_count": 313,
   "metadata": {},
   "outputs": [],
   "source": [
    "vertices = vertex_generator(10, key = 'normal', centred_around = (0,0), radius = 1)\n",
    "edges = edge_generator(vertices, mu = 1,key = 'uniform')"
   ]
  },
  {
   "cell_type": "code",
   "execution_count": 314,
   "metadata": {},
   "outputs": [
    {
     "data": {
      "text/plain": [
       "~.~.~.~.~.~.~.~.~.~.~.~.~.~.~.Network.~.~.~.~.~.~.~.~.~.~.~.~.~.~.~\n",
       "\n",
       "======================================================================\n",
       "\n",
       "°°°°°°°°°°°°°°°°°°°°°°°°°°°°°  Vertices  °°°°°°°°°°°°°°°°°°°°°°°°°°°°°\n",
       "\n",
       "(-0.34, 1.69)\n",
       "(-0.88, -1.76)\n",
       "(0.02, 2.01)\n",
       "(0.48, -0.52)\n",
       "(0.71, 0.69)\n",
       "(-1.17, -0.06)\n",
       "(1.76, 0.35)\n",
       "(-0.18, 1.09)\n",
       "(0.37, 0.25)\n",
       "(0.33, 1.20)\n",
       "\n",
       "======================================================================\n",
       "\n",
       "-->--->--->--->--->--->--->--->  Edges  <---<---<---<---<---<---<---<-\n",
       "\n",
       "edge((-0.88, -1.76)--(-0.34, 1.69))\n",
       "edge((0.02, 2.01)--(-0.34, 1.69))\n",
       "edge((0.71, 0.69)--(-0.88, -1.76))\n",
       "edge((-1.17, -0.06)--(-0.18, 1.09))\n",
       "edge((-1.17, -0.06)--(0.37, 0.25))\n",
       "edge((0.37, 0.25)--(-0.18, 1.09))\n",
       "edge((0.37, 0.25)--(-1.17, -0.06))"
      ]
     },
     "execution_count": 314,
     "metadata": {},
     "output_type": "execute_result"
    },
    {
     "data": {
      "image/png": "[encoded data removed]",
      "text/plain": [
       "<Figure size 640x480 with 1 Axes>"
      ]
     },
     "metadata": {},
     "output_type": "display_data"
    }
   ],
   "source": [
    "network = Network(vertices, edges, directed = False, e_weighted=False ,v_weighted=False)\n",
    "x = network\n",
    "x"
   ]
  },
  {
   "cell_type": "code",
   "execution_count": 315,
   "metadata": {},
   "outputs": [
    {
     "name": "stdout",
     "output_type": "stream",
     "text": [
      "Network\n",
      "\n",
      "Vertices: ([vertex(-0.34, 1.69)])\n",
      "\n",
      "Edges: ([])\n",
      "Network\n",
      "\n",
      "Vertices: ([vertex(-0.88, -1.76), vertex(-0.34, 1.69)])\n",
      "\n",
      "Edges: ([edge((-0.88, -1.76)--(-0.34, 1.69))])\n",
      "Network\n",
      "\n",
      "Vertices: ([vertex(0.02, 2.01), vertex(-0.34, 1.69)])\n",
      "\n",
      "Edges: ([edge((0.02, 2.01)--(-0.34, 1.69))])\n",
      "Network\n",
      "\n",
      "Vertices: ([vertex(0.48, -0.52)])\n",
      "\n",
      "Edges: ([])\n",
      "Network\n",
      "\n",
      "Vertices: ([vertex(0.71, 0.69), vertex(-0.88, -1.76), vertex(-0.34, 1.69)])\n",
      "\n",
      "Edges: ([edge((-0.88, -1.76)--(-0.34, 1.69)), edge((0.71, 0.69)--(-0.88, -1.76))])\n",
      "Network\n",
      "\n",
      "Vertices: ([vertex(-1.17, -0.06), vertex(-0.18, 1.09), vertex(0.37, 0.25)])\n",
      "\n",
      "Edges: ([edge((-1.17, -0.06)--(-0.18, 1.09)), edge((-1.17, -0.06)--(0.37, 0.25)), edge((0.37, 0.25)--(-0.18, 1.09)), edge((0.37, 0.25)--(-1.17, -0.06))])\n",
      "Network\n",
      "\n",
      "Vertices: ([vertex(1.76, 0.35)])\n",
      "\n",
      "Edges: ([])\n",
      "Network\n",
      "\n",
      "Vertices: ([vertex(-0.18, 1.09)])\n",
      "\n",
      "Edges: ([])\n",
      "Network\n",
      "\n",
      "Vertices: ([vertex(-1.17, -0.06), vertex(-0.18, 1.09), vertex(0.37, 0.25)])\n",
      "\n",
      "Edges: ([edge((-1.17, -0.06)--(-0.18, 1.09)), edge((-1.17, -0.06)--(0.37, 0.25)), edge((0.37, 0.25)--(-0.18, 1.09)), edge((0.37, 0.25)--(-1.17, -0.06))])\n",
      "Network\n",
      "\n",
      "Vertices: ([vertex(0.33, 1.20)])\n",
      "\n",
      "Edges: ([])\n"
     ]
    }
   ],
   "source": [
    "for i in x.vertices:\n",
    "    print(network.maximal_subnetwork(i))"
   ]
  },
  {
   "cell_type": "code",
   "execution_count": 230,
   "metadata": {},
   "outputs": [
    {
     "data": {
      "text/plain": [
       "~.~.~.~.~.~.~.~.~.~.~.~.~.~.~.Network.~.~.~.~.~.~.~.~.~.~.~.~.~.~.~\n",
       "\n",
       "======================================================================\n",
       "\n",
       "°°°°°°°°°°°°°°°°°°°°°°°°°°°°°  Vertices  °°°°°°°°°°°°°°°°°°°°°°°°°°°°°\n",
       "\n",
       "(0.23, -0.40)\n",
       "(0.35, 0.01)\n",
       "(0.04, -0.13)\n",
       "(0.23, 2.67)\n",
       "(0.34, 1.30)\n",
       "(0.22, -1.02)\n",
       "(1.27, -2.14)\n",
       "(0.96, 0.97)\n",
       "(-0.10, -0.12)\n",
       "(0.94, 0.60)\n",
       "\n",
       "======================================================================\n",
       "\n",
       "-->--->--->--->--->--->--->--->  Edges  <---<---<---<---<---<---<---<-\n",
       "\n",
       "edge((0.94, 0.60)--(0.96, 0.97))\n",
       "edge((0.94, 0.60)--(-0.10, -0.12))\n",
       "edge((-0.10, -0.12)--(0.34, 1.30))\n",
       "edge((0.96, 0.97)--(0.04, -0.13))\n",
       "edge((0.96, 0.97)--(0.22, -1.02))\n",
       "edge((0.96, 0.97)--(0.34, 1.30))\n",
       "edge((1.27, -2.14)--(0.22, -1.02))\n",
       "edge((1.27, -2.14)--(0.23, -0.40))\n",
       "edge((1.27, -2.14)--(0.35, 0.01))\n",
       "edge((0.22, -1.02)--(0.04, -0.13))\n",
       "edge((0.22, -1.02)--(0.23, -0.40))\n",
       "edge((0.34, 1.30)--(0.23, -0.40))\n",
       "edge((0.23, 2.67)--(0.23, -0.40))\n",
       "edge((0.04, -0.13)--(0.23, -0.40))\n",
       "edge((0.35, 0.01)--(0.23, -0.40))"
      ]
     },
     "execution_count": 230,
     "metadata": {},
     "output_type": "execute_result"
    },
    {
     "data": {
      "image/png": "[encoded data removed]",
      "text/plain": [
       "<Figure size 640x480 with 1 Axes>"
      ]
     },
     "metadata": {},
     "output_type": "display_data"
    }
   ],
   "source": [
    "network"
   ]
  },
  {
   "cell_type": "code",
   "execution_count": 11,
   "metadata": {},
   "outputs": [],
   "source": [
    "network = Network(vertices=list({Vertex(1,0) , Vertex(0,1), Vertex(1,1), Vertex(0,0)}), edges=list({Edge(Vertex(1,0), Vertex(0,1)), Edge(Vertex(1,0), Vertex(1,1)), Edge(Vertex(0,1), Vertex(1,1)), Edge(Vertex(0,1), Vertex(0,0)), Edge(Vertex(1,1), Vertex(0,0))}))"
   ]
  },
  {
   "cell_type": "code",
   "execution_count": 12,
   "metadata": {},
   "outputs": [
    {
     "data": {
      "text/plain": [
       "(1.0, 0.0) -> (1.0, 1.0) -> (0.0, 0.0)"
      ]
     },
     "execution_count": 12,
     "metadata": {},
     "output_type": "execute_result"
    }
   ],
   "source": [
    "network.nontrivial_path(Vertex(1,0), Vertex(0,0))"
   ]
  },
  {
   "cell_type": "code",
   "execution_count": 13,
   "metadata": {},
   "outputs": [
    {
     "name": "stdout",
     "output_type": "stream",
     "text": [
      "{vertex(0.0, 1.0), vertex(1.0, 0.0), vertex(1.0, 1.0), vertex(0.0, 0.0)}\n"
     ]
    }
   ],
   "source": [
    "print(network.path_component(Vertex(1,0)))"
   ]
  },
  {
   "cell_type": "code",
   "execution_count": 272,
   "metadata": {},
   "outputs": [],
   "source": [
    "network2 = Network(vertices = list({Vertex(2,2), Vertex(3,2), Vertex(2,3), Vertex(3,3)}), edges = list({Edge(Vertex(2,2), Vertex(3,2)), Edge(Vertex(2,2), Vertex(2,3)), Edge(Vertex(3,2), Vertex(3,3)), Edge(Vertex(2,3), Vertex(3,3))}))"
   ]
  },
  {
   "cell_type": "code",
   "execution_count": 273,
   "metadata": {},
   "outputs": [
    {
     "data": {
      "text/plain": [
       "[vertex(2.00, 3.00),\n",
       " vertex(3.00, 2.00),\n",
       " vertex(3.00, 3.00),\n",
       " vertex(2.00, 2.00)]"
      ]
     },
     "execution_count": 273,
     "metadata": {},
     "output_type": "execute_result"
    }
   ],
   "source": [
    "network2.vertices"
   ]
  },
  {
   "cell_type": "code",
   "execution_count": 274,
   "metadata": {},
   "outputs": [
    {
     "data": {
      "text/plain": [
       "[edge((3.00, 2.00)--(3.00, 3.00)),\n",
       " edge((2.00, 2.00)--(3.00, 2.00)),\n",
       " edge((2.00, 3.00)--(3.00, 3.00)),\n",
       " edge((2.00, 2.00)--(2.00, 3.00))]"
      ]
     },
     "execution_count": 274,
     "metadata": {},
     "output_type": "execute_result"
    }
   ],
   "source": [
    "network2.edges"
   ]
  },
  {
   "cell_type": "code",
   "execution_count": 17,
   "metadata": {},
   "outputs": [],
   "source": [
    "network3 = network + network2"
   ]
  },
  {
   "cell_type": "code",
   "execution_count": 18,
   "metadata": {},
   "outputs": [
    {
     "data": {
      "text/plain": [
       "{vertex(0.0, 0.0), vertex(0.0, 1.0), vertex(1.0, 0.0), vertex(1.0, 1.0)}"
      ]
     },
     "execution_count": 18,
     "metadata": {},
     "output_type": "execute_result"
    }
   ],
   "source": [
    "network3.path_component(Vertex(1,0))"
   ]
  },
  {
   "cell_type": "code",
   "execution_count": null,
   "metadata": {},
   "outputs": [
    {
     "name": "stdout",
     "output_type": "stream",
     "text": [
      "[vertex(0.0, 1.0), vertex(1.0, 1.0)]\n",
      "(0.0, 1.0)\n",
      "(1.0, 0.0)\n",
      "(1.0, 1.0)\n",
      "(0.0, 0.0)\n"
     ]
    }
   ],
   "source": [
    "for i in network3.path_component(Vertex(1,0)):\n",
    "    print(i)"
   ]
  },
  {
   "cell_type": "code",
   "execution_count": null,
   "metadata": {},
   "outputs": [
    {
     "name": "stdout",
     "output_type": "stream",
     "text": [
      "[vertex(0.0, 1.0), vertex(1.0, 1.0)]\n"
     ]
    },
    {
     "data": {
      "text/plain": [
       "{vertex(0.0, 0.0), vertex(0.0, 1.0), vertex(1.0, 0.0), vertex(1.0, 1.0)}"
      ]
     },
     "execution_count": 590,
     "metadata": {},
     "output_type": "execute_result"
    }
   ],
   "source": [
    "network3.path_component(Vertex(1,0))"
   ]
  },
  {
   "cell_type": "code",
   "execution_count": null,
   "metadata": {},
   "outputs": [],
   "source": [
    "G = nx.Graph()\n",
    "G.add_nodes_from(network4.vertices)\n",
    "G.add_edges_from(list(map(lambda x: x.tuple, network4.edges)))"
   ]
  },
  {
   "cell_type": "code",
   "execution_count": null,
   "metadata": {},
   "outputs": [
    {
     "data": {
      "image/png": "[encoded data removed]",
      "text/plain": [
       "<Figure size 640x480 with 1 Axes>"
      ]
     },
     "metadata": {},
     "output_type": "display_data"
    }
   ],
   "source": [
    "nx.draw(G)"
   ]
  },
  {
   "cell_type": "code",
   "execution_count": 294,
   "metadata": {},
   "outputs": [
    {
     "data": {
      "text/plain": [
       "({2, 3}, 1)"
      ]
     },
     "execution_count": 294,
     "metadata": {},
     "output_type": "execute_result"
    }
   ],
   "source": [
    "a = {1,2,3}\n",
    "b = a.pop()\n",
    "a, b"
   ]
  },
  {
   "cell_type": "code",
   "execution_count": 300,
   "metadata": {},
   "outputs": [
    {
     "data": {
      "text/plain": [
       "False"
      ]
     },
     "execution_count": 300,
     "metadata": {},
     "output_type": "execute_result"
    }
   ],
   "source": [
    "network2 = Network(vertices = list({Vertex(2,2), Vertex(3,2), Vertex(2,3), Vertex(3,3)}), edges = list({Edge(Vertex(2,2), Vertex(3,2)), Edge(Vertex(2,2), Vertex(2,3)), Edge(Vertex(3,2), Vertex(3,3)), Edge(Vertex(2,3), Vertex(3,3))}))\n",
    "Edge(Vertex(2,2), Vertex(1,2)) in network2"
   ]
  },
  {
   "cell_type": "code",
   "execution_count": 301,
   "metadata": {},
   "outputs": [
    {
     "data": {
      "text/plain": [
       "[vertex(3.00, 2.00), vertex(2.00, 3.00)]"
      ]
     },
     "execution_count": 301,
     "metadata": {},
     "output_type": "execute_result"
    }
   ],
   "source": [
    "network2.adjacent_vertices(Vertex(2,2))"
   ]
  },
  {
   "cell_type": "code",
   "execution_count": 302,
   "metadata": {},
   "outputs": [],
   "source": [
    "nt = network2.remove_all_edges()"
   ]
  },
  {
   "cell_type": "code",
   "execution_count": 303,
   "metadata": {},
   "outputs": [],
   "source": [
    "network2.add_edge(Edge(Vertex(2,2), Vertex(1,2)))"
   ]
  },
  {
   "cell_type": "code",
   "execution_count": 304,
   "metadata": {},
   "outputs": [
    {
     "data": {
      "text/plain": [
       "~.~.~.~.~.~.~.~.~.~.~.~.~.~.~.Network.~.~.~.~.~.~.~.~.~.~.~.~.~.~.~\n",
       "\n",
       "======================================================================\n",
       "\n",
       "°°°°°°°°°°°°°°°°°°°°°°°°°°°°°  Vertices  °°°°°°°°°°°°°°°°°°°°°°°°°°°°°\n",
       "\n",
       "(1.00, 2.00)\n",
       "(2.00, 3.00)\n",
       "(3.00, 3.00)\n",
       "(2.00, 2.00)\n",
       "(3.00, 2.00)\n",
       "\n",
       "======================================================================\n",
       "\n",
       "-->--->--->--->--->--->--->--->  Edges  <---<---<---<---<---<---<---<-\n",
       "\n",
       "edge((3.00, 2.00)--(3.00, 3.00))\n",
       "edge((2.00, 2.00)--(3.00, 2.00))\n",
       "edge((2.00, 3.00)--(3.00, 3.00))\n",
       "edge((2.00, 2.00)--(2.00, 3.00))\n",
       "edge((2.00, 2.00)--(1.00, 2.00))"
      ]
     },
     "execution_count": 304,
     "metadata": {},
     "output_type": "execute_result"
    },
    {
     "data": {
      "image/png": "[encoded data removed]",
      "text/plain": [
       "<Figure size 640x480 with 1 Axes>"
      ]
     },
     "metadata": {},
     "output_type": "display_data"
    }
   ],
   "source": [
    "network2.maximal_subnetwork(Vertex(2,2))"
   ]
  },
  {
   "cell_type": "code",
   "execution_count": 320,
   "metadata": {},
   "outputs": [],
   "source": [
    "x = {Edge(Vertex(2,2), Vertex(1,2)), Edge(Vertex(1,2), Vertex(2,2))}"
   ]
  },
  {
   "cell_type": "code",
   "execution_count": 321,
   "metadata": {},
   "outputs": [
    {
     "data": {
      "text/plain": [
       "{edge((1.00, 2.00)--(2.00, 2.00)), edge((2.00, 2.00)--(1.00, 2.00))}"
      ]
     },
     "execution_count": 321,
     "metadata": {},
     "output_type": "execute_result"
    }
   ],
   "source": [
    "x"
   ]
  },
  {
   "cell_type": "code",
   "execution_count": null,
   "metadata": {},
   "outputs": [],
   "source": []
  }
 ],
 "metadata": {
  "kernelspec": {
   "display_name": "Python 3",
   "language": "python",
   "name": "python3"
  },
  "language_info": {
   "codemirror_mode": {
    "name": "ipython",
    "version": 3
   },
   "file_extension": ".py",
   "mimetype": "text/x-python",
   "name": "python",
   "nbconvert_exporter": "python",
   "pygments_lexer": "ipython3",
   "version": "3.11.2"
  },
  "orig_nbformat": 4,
  "vscode": {
   "interpreter": {
    "hash": "a7e99fc97798e89b261cde3357a501ac015a62222315f9b6d785016d0b13f1a9"
   }
  }
 },
 "nbformat": 4,
 "nbformat_minor": 2
}
