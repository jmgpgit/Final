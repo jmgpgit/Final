{
 "cells": [
  {
   "cell_type": "code",
   "execution_count": 8,
   "metadata": {},
   "outputs": [],
   "source": [
    "from classes import *\n",
    "import numpy as np\n",
    "import networkx as nx\n",
    "import pylab as plt\n",
    "from scipy.stats import norm,uniform,binom,poisson\n",
    "import random\n",
    "from functools import reduce\n",
    "from itertools import product\n",
    "from collections import deque\n",
    "import re\n",
    "from time import sleep\n",
    "import json\n",
    "import copy\n",
    "import unicodedata"
   ]
  },
  {
   "cell_type": "code",
   "execution_count": 9,
   "metadata": {},
   "outputs": [],
   "source": [
    "with open('raw_metro_data.json', 'r') as fp: # Load path for top 10 song data for each artist in our dataset\n",
    "    line_dict = json.load(fp)\n",
    "    line_dict = {int(key): value for key, value in line_dict.items()}\n"
   ]
  },
  {
   "cell_type": "code",
   "execution_count": 10,
   "metadata": {},
   "outputs": [],
   "source": [
    "line_dict = {\n",
    "    1: line_dict[1][0],\n",
    "    2: line_dict[2][0],\n",
    "    3: line_dict[3][0],\n",
    "    4: line_dict[4][1],\n",
    "    5: line_dict[5][1],\n",
    "    6: line_dict[6][0],\n",
    "    7: line_dict[7][1],\n",
    "    8: line_dict[8][1],\n",
    "    9: line_dict[9][1],\n",
    "    10: line_dict[10][0],\n",
    "}\n",
    "dict_copy = copy.deepcopy(line_dict)"
   ]
  },
  {
   "cell_type": "code",
   "execution_count": 11,
   "metadata": {},
   "outputs": [],
   "source": [
    "for key,val in line_dict.items():\n",
    "    c = []\n",
    "    for i in val:\n",
    "        if i[0] == i[1]:\n",
    "            continue\n",
    "        elif i[1]:\n",
    "            c.append([i[1],[]])\n",
    "        \n",
    "        else:\n",
    "            try:\n",
    "                linea = re.search(r'nea (\\d+)',i[0]).group(1)\n",
    "                if linea == str(key):\n",
    "                    continue\n",
    "                c[-1][1].append(int(linea))\n",
    "            except:\n",
    "                continue\n",
    "            \n",
    "    line_dict[key] = c"
   ]
  },
  {
   "cell_type": "code",
   "execution_count": 13,
   "metadata": {},
   "outputs": [],
   "source": [
    "def remove_accents(input_str):\n",
    "    nfkd_form = unicodedata.normalize('NFKD', input_str)\n",
    "    only_ascii = nfkd_form.encode('ASCII', 'ignore')\n",
    "    encoding = \"utf-8\"\n",
    "    return only_ascii.decode(encoding)\n",
    "\n",
    "for key,val in line_dict.items():\n",
    "    for i in range(len(val)):\n",
    "        val[i][0] = remove_accents(val[i][0].lower())"
   ]
  },
  {
   "cell_type": "code",
   "execution_count": 14,
   "metadata": {},
   "outputs": [],
   "source": [
    "with open('clean_metro_data.json', 'w') as fp: # write clean file\n",
    "    json.dump(line_dict,fp)"
   ]
  }
 ],
 "metadata": {
  "kernelspec": {
   "display_name": "Python 3",
   "language": "python",
   "name": "python3"
  },
  "language_info": {
   "codemirror_mode": {
    "name": "ipython",
    "version": 3
   },
   "file_extension": ".py",
   "mimetype": "text/x-python",
   "name": "python",
   "nbconvert_exporter": "python",
   "pygments_lexer": "ipython3",
   "version": "3.11.2"
  },
  "orig_nbformat": 4
 },
 "nbformat": 4,
 "nbformat_minor": 2
}
