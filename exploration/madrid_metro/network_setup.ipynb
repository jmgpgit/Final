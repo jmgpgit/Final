{
 "cells": [
  {
   "cell_type": "code",
   "execution_count": 1,
   "metadata": {},
   "outputs": [],
   "source": [
    "import sys \n",
    "import os\n",
    "sys.path.append(os.path.relpath(\"../../src/\"))\n",
    "from network import * # my class\n",
    "\n",
    "import numpy as np\n",
    "import networkx as nx\n",
    "import pylab as plt\n",
    "from scipy.stats import norm,uniform,binom,poisson\n",
    "import random\n",
    "from functools import reduce\n",
    "from collections import deque\n",
    "import itertools\n",
    "from uuid import uuid4\n",
    "\n",
    "import json \n",
    "from tqdm import tqdm"
   ]
  },
  {
   "cell_type": "code",
   "execution_count": 2,
   "metadata": {},
   "outputs": [],
   "source": [
    "with open('clean_metro_data.json', 'r') as fp: # Load path for top 10 song data for each artist in our dataset\n",
    "    line_dict = json.load(fp)\n",
    "    line_dict = {int(key): value for key, value in line_dict.items()}"
   ]
  },
  {
   "cell_type": "code",
   "execution_count": 3,
   "metadata": {},
   "outputs": [],
   "source": [
    "end_nodes = {}\n",
    "complete_lines = {}\n",
    "for k in range(1,11):\n",
    "    complete_lines[k] = []\n",
    "    end_nodes[k] = []\n",
    "    for i , j in enumerate(line_dict[k]):\n",
    "        if (i == 0 or i == len(line_dict[k])-1) and not j[1]:\n",
    "            end_nodes[k].append((k,i,1,line_dict[k][i][0]))\n",
    "        if j[1]:\n",
    "            if j[1][0] >= k:\n",
    "                complete_lines[k].append((k,i,1,line_dict[k][i][0]))\n",
    "                if i == 0 or i == len(line_dict[k])-1:\n",
    "                    end_nodes[k].append((k,i,1,line_dict[k][i][0]))\n",
    "            else:\n",
    "                val = reduce(lambda x,y : x if x[0] == j[0] else y,line_dict[j[1][0]])\n",
    "                complete_lines[k].append((j[1][0],line_dict[j[1][0]].index(val),1,line_dict[k][i][0]))\n",
    "                if i == 0 or i == len(line_dict[k])-1:\n",
    "                    end_nodes[k].append((j[1][0],line_dict[j[1][0]].index(val),1,line_dict[k][i][0]))\n",
    "        else:\n",
    "            complete_lines[k].append((k,i,1,line_dict[k][i][0]))\n",
    "\n",
    "\n",
    "shortened_lines = {}\n",
    "for k in range(1,11):\n",
    "    shortened_lines[k] = []\n",
    "    count = 0\n",
    "    for i,j in enumerate(line_dict[k]):\n",
    "        if j[1] or i == 0 or i == len(line_dict[k])-1:\n",
    "            if j[1]:\n",
    "                if j[1][0] >= k:\n",
    "                    shortened_lines[k].append((k,i,count,line_dict[k][i][0]))\n",
    "                else:\n",
    "                    val = reduce(lambda x,y : x if x[0] == j[0] else y,line_dict[j[1][0]])\n",
    "                    shortened_lines[k].append((j[1][0],line_dict[j[1][0]].index(val),count,line_dict[k][i][0]))\n",
    "            else:\n",
    "                shortened_lines[k].append((k,i,count,line_dict[k][i][0]))\n",
    "            count = 0\n",
    "        count += 1 "
   ]
  },
  {
   "cell_type": "code",
   "execution_count": 4,
   "metadata": {},
   "outputs": [],
   "source": [
    "nodes = []\n",
    "node_locs = []\n",
    "edges = []\n",
    "visited_nodes = {}\n",
    "node_to_name = {}\n",
    "name_to_node = {}\n",
    "dist = lambda x : Node.dist(x.node1,x.node2)\n",
    "for i in range(1,11):\n",
    "    path = complete_lines[i]\n",
    "    for j in range(len(path)-1):\n",
    "        loc1 = (path[j][0],path[j][1])\n",
    "        if loc1 not in node_locs:\n",
    "            node1 = Node.make(*loc1,name = path[j][3])\n",
    "            node_locs.append(loc1)\n",
    "            nodes.append(node1)\n",
    "            node_to_name[node1.id] = path[j][3]\n",
    "            name_to_node[path[j][3]] = node1.id\n",
    "        else: \n",
    "            station = node_locs.index(loc1)\n",
    "            node1 = nodes[station]\n",
    "        loc2 = (path[j+1][0],path[j+1][1])\n",
    "        if loc2 not in node_locs:\n",
    "            node2 = Node.make(*loc2,name = path[j+1][3])\n",
    "            node_locs.append(loc2)\n",
    "            nodes.append(node2)\n",
    "            node_to_name[node2.id] = path[j+1][3]\n",
    "            name_to_node[path[j+1][3]] = node2.id\n",
    "        else:\n",
    "            station = node_locs.index(loc2)\n",
    "            node2 = nodes[station]\n",
    "        edges.append(Edge.make(node1,node2,weight = lambda x : dist(x)))\n",
    "\n",
    "\n",
    "complete_network = Network(nodes,edges)\n",
    "end_nodes_complete = {key : list(map(lambda x: complete_network._node_loc[(x[0],x[1])], value)) for key,value in end_nodes.items()}\n",
    "\n",
    "nodes = []\n",
    "node_locs = []\n",
    "edges = []\n",
    "visited_nodes = {}\n",
    "\n",
    "for i in range(1,11):\n",
    "    path = shortened_lines[i]\n",
    "    for j in range(len(path)-1):\n",
    "        loc1 = (path[j][0],path[j][1])\n",
    "        if loc1 not in node_locs:\n",
    "            node1 = Node.make(*loc1)\n",
    "            node1.name = path[j][3]\n",
    "            node_locs.append(loc1)\n",
    "            nodes.append(node1)\n",
    "        else: \n",
    "            station = node_locs.index(loc1)\n",
    "            node1 = nodes[station]\n",
    "        loc2 = (path[j+1][0],path[j+1][1])\n",
    "        if loc2 not in node_locs:\n",
    "            node2 = Node.make(*loc2)\n",
    "            node2.name = path[j+1][3]\n",
    "            node_locs.append(loc2)\n",
    "            nodes.append(node2)\n",
    "        else:\n",
    "            station = node_locs.index(loc2)\n",
    "            node2 = nodes[station]\n",
    "        edge = Edge.make(node1,node2,weight = lambda x : dist(x))\n",
    "        edge.target_weight = path[j+1][2]\n",
    "        edges.append(edge)\n",
    "        \n",
    "shortened_network = Network(nodes,edges)\n",
    "end_nodes_shortened = {key : list(map(lambda x: shortened_network._node_loc[(x[0],x[1])], value)) for key,value in end_nodes.items()}\n",
    "end_nodes = {key : list(map(lambda x : x[-1], value)) for key,value in end_nodes.items()}"
   ]
  },
  {
   "cell_type": "code",
   "execution_count": 5,
   "metadata": {},
   "outputs": [
    {
     "data": {
      "text/plain": [
       "{1: ['pinar de chamartin', 'valdecarros'],\n",
       " 2: ['las rosas', 'cuatro caminos'],\n",
       " 3: ['moncloa', 'villaverde alto'],\n",
       " 4: ['arguelles', 'pinar de chamartin'],\n",
       " 5: ['casa de campo', 'alameda de osuna'],\n",
       " 6: ['laguna', 'carpetana'],\n",
       " 7: ['pitis', 'hospital del henares'],\n",
       " 8: ['aeropuerto t4', 'nuevos ministerios'],\n",
       " 9: ['paco de lucia', 'arganda del rey'],\n",
       " 10: ['puerta del sur', 'hospital infanta sofia']}"
      ]
     },
     "execution_count": 5,
     "metadata": {},
     "output_type": "execute_result"
    }
   ],
   "source": [
    "with open('end_stations.json', 'w') as fp: # write clean file\n",
    "    json.dump(end_nodes,fp)"
   ]
  },
  {
   "cell_type": "code",
   "execution_count": 6,
   "metadata": {},
   "outputs": [
    {
     "data": {
      "text/plain": [
       "<matplotlib.collections.PathCollection at 0x185e71cbd90>"
      ]
     },
     "execution_count": 6,
     "metadata": {},
     "output_type": "execute_result"
    },
    {
     "data": {
      "image/png": "[encoded data removed]",
      "text/plain": [
       "<Figure size 640x480 with 1 Axes>"
      ]
     },
     "metadata": {},
     "output_type": "display_data"
    }
   ],
   "source": [
    "plt.scatter([i.loc[0] for i in shortened_network.nodes], [i.loc[1] for i in shortened_network.nodes])"
   ]
  },
  {
   "cell_type": "code",
   "execution_count": 7,
   "metadata": {},
   "outputs": [],
   "source": [
    "edge_ids = [(i.id, i.weight) for i in shortened_network.edges]\n",
    "target_weights = {i[0]: 1 for i in edge_ids}"
   ]
  },
  {
   "cell_type": "code",
   "execution_count": 8,
   "metadata": {},
   "outputs": [],
   "source": [
    "def error(network):\n",
    "    error_vector = [(i.weight - i.target_weight)**2 for i in network.edges]\n",
    "    average_error = sum(error_vector)/len(error_vector)\n",
    "    return average_error**0.5\n",
    "dirs = {1:(1,0), 2:(0,1), 3:(-1,0), 4:(0,-1)}\n",
    "node_memory = {node.id : {'cycle' : itertools.cycle(dirs.values()),\n",
    "                          'back_counter' : 0} for node in shortened_network.nodes}\n",
    "\n",
    "def cardinal_move(node,eps,weight):\n",
    "    if node_memory[node.id]['back_counter'] > 100:\n",
    "        return 'stuck'\n",
    "    dir = next(node_memory[node.id]['cycle'])\n",
    "    node.move(eps * dir[0], eps * dir[1], True)\n",
    "    new_weight = error(shortened_network)\n",
    "    if new_weight > weight:\n",
    "        node.move(-eps * dir[0],- eps * dir[1], True)\n",
    "        node_memory[node.id]['back_counter'] += 1\n",
    "    else:\n",
    "        node_memory[node.id]['back_counter'] = 0"
   ]
  },
  {
   "cell_type": "code",
   "execution_count": 10,
   "metadata": {},
   "outputs": [],
   "source": [
    "# x = (lon + 180) * (100 / 360)\n",
    "# y = (100 / pi) * ln(tan(pi/4 + lat/2))"
   ]
  },
  {
   "cell_type": "code",
   "execution_count": 11,
   "metadata": {},
   "outputs": [
    {
     "name": "stderr",
     "output_type": "stream",
     "text": [
      "100%|██████████| 100/100 [00:01<00:00, 51.72it/s]\n"
     ]
    }
   ],
   "source": [
    "pile = shortened_network.nodes[:]\n",
    "\n",
    "for i in tqdm(range(100)):\n",
    "    for node in pile:\n",
    "\n",
    "        x = cardinal_move(node,0.02,error(shortened_network))\n",
    "        if x == 'stuck':\n",
    "            pile.remove(node)\n",
    "            break"
   ]
  },
  {
   "cell_type": "code",
   "execution_count": 12,
   "metadata": {},
   "outputs": [
    {
     "data": {
      "text/plain": [
       "<matplotlib.collections.PathCollection at 0x185e9859cd0>"
      ]
     },
     "execution_count": 12,
     "metadata": {},
     "output_type": "execute_result"
    },
    {
     "data": {
      "image/png": "[encoded data removed]",
      "text/plain": [
       "<Figure size 640x480 with 1 Axes>"
      ]
     },
     "metadata": {},
     "output_type": "display_data"
    }
   ],
   "source": [
    "plt.scatter([i.loc[0] for i in shortened_network.nodes], [i.loc[1] for i in shortened_network.nodes])"
   ]
  },
  {
   "cell_type": "code",
   "execution_count": null,
   "metadata": {},
   "outputs": [],
   "source": []
  }
 ],
 "metadata": {
  "kernelspec": {
   "display_name": "Python 3",
   "language": "python",
   "name": "python3"
  },
  "language_info": {
   "codemirror_mode": {
    "name": "ipython",
    "version": 3
   },
   "file_extension": ".py",
   "mimetype": "text/x-python",
   "name": "python",
   "nbconvert_exporter": "python",
   "pygments_lexer": "ipython3",
   "version": "3.11.2"
  },
  "orig_nbformat": 4
 },
 "nbformat": 4,
 "nbformat_minor": 2
}
