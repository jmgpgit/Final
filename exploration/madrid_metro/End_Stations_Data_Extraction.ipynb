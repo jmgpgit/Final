{
 "cells": [
  {
   "cell_type": "code",
   "execution_count": 1,
   "metadata": {},
   "outputs": [
    {
     "name": "stderr",
     "output_type": "stream",
     "text": [
      "[WDM] - Downloading: 16.9kB [00:00, 8.58MB/s]                   \n"
     ]
    }
   ],
   "source": [
    "import json\n",
    "\n",
    "import requests as req\n",
    "from bs4 import BeautifulSoup\n",
    "from selenium import webdriver\n",
    "from selenium.webdriver.firefox.options import Options\n",
    "from selenium.webdriver.common.by import By\n",
    "from selenium.webdriver.firefox.service import Service as FirefoxService\n",
    "from selenium.webdriver.firefox.firefox_binary import FirefoxBinary\n",
    "from webdriver_manager.firefox import GeckoDriverManager\n",
    "\n",
    "PATH=FirefoxService(GeckoDriverManager().install())\n",
    "binary = FirefoxBinary(r'C:\\Program Files\\Mozilla Firefox\\Firefox.exe')\n",
    "\n",
    "opciones=Options()"
   ]
  },
  {
   "cell_type": "code",
   "execution_count": 2,
   "metadata": {},
   "outputs": [],
   "source": [
    "with open('end_stations.json', 'r') as fp: # Load path for top 10 song data for each artist in our dataset\n",
    "    end_stations = json.load(fp)\n",
    "    end_stations = {int(key): value for key, value in end_stations.items()}\n",
    "end_stations_flat = [item for sublist in end_stations.values() for item in sublist]"
   ]
  },
  {
   "cell_type": "code",
   "execution_count": 5,
   "metadata": {},
   "outputs": [],
   "source": [
    "coords = {}\n",
    "\n",
    "def extractor(k):\n",
    "    driver = webdriver.Firefox(firefox_binary=binary,options = opciones)\n",
    "    url = 'https://es.wikipedia.org/wiki/'+ str(k)\n",
    "    xpath = '//span[@class=\"geo-default\"]'\n",
    "    driver.get(url)\n",
    "    try:\n",
    "        y = []\n",
    "        x = driver.find_elements(By.XPATH, xpath)\n",
    "        for i in x:\n",
    "            y.append(i.text)\n",
    "            \n",
    "    except:\n",
    "        y = []\n",
    "\n",
    "    driver.quit()\n",
    "    return y\n"
   ]
  },
  {
   "cell_type": "code",
   "execution_count": 6,
   "metadata": {},
   "outputs": [
    {
     "name": "stderr",
     "output_type": "stream",
     "text": [
      "C:\\Users\\jorge\\AppData\\Local\\Temp\\ipykernel_21384\\3880377814.py:4: DeprecationWarning: firefox_binary has been deprecated, please pass in a Service object\n",
      "  driver = webdriver.Firefox(firefox_binary=binary,options = opciones)\n"
     ]
    }
   ],
   "source": [
    "for i in end_stations_flat:\n",
    "    coords[i] = extractor(i)\n",
    "coords = {k: v[0] for k, v in coords.items() if v != []}"
   ]
  },
  {
   "cell_type": "code",
   "execution_count": 11,
   "metadata": {},
   "outputs": [],
   "source": [
    "with open('End_Stations_Coordinates_Dirty.json', 'w') as fp: # write clean file\n",
    "    json.dump(coords,fp)"
   ]
  }
 ],
 "metadata": {
  "kernelspec": {
   "display_name": "Python 3",
   "language": "python",
   "name": "python3"
  },
  "language_info": {
   "codemirror_mode": {
    "name": "ipython",
    "version": 3
   },
   "file_extension": ".py",
   "mimetype": "text/x-python",
   "name": "python",
   "nbconvert_exporter": "python",
   "pygments_lexer": "ipython3",
   "version": "3.11.1"
  },
  "orig_nbformat": 4
 },
 "nbformat": 4,
 "nbformat_minor": 2
}
