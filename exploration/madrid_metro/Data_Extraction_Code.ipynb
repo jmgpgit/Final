{
 "cells": [
  {
   "cell_type": "code",
   "execution_count": 12,
   "metadata": {},
   "outputs": [],
   "source": [
    "from classes import *\n",
    "import numpy as np\n",
    "import networkx as nx\n",
    "import pylab as plt\n",
    "from scipy.stats import norm,uniform,binom,poisson\n",
    "import random\n",
    "from functools import reduce\n",
    "from itertools import product\n",
    "from collections import deque\n",
    "import re\n",
    "from time import sleep\n",
    "import json"
   ]
  },
  {
   "cell_type": "code",
   "execution_count": 2,
   "metadata": {},
   "outputs": [
    {
     "name": "stderr",
     "output_type": "stream",
     "text": [
      "[WDM] - Downloading: 16.9kB [00:00, 8.64MB/s]                   \n",
      "[WDM] - Downloading: 16.9kB [00:00, 8.64MB/s]                   \n",
      "[WDM] - Downloading: 100%|██████████| 1.59M/1.59M [00:00<00:00, 32.6MB/s]\n"
     ]
    }
   ],
   "source": [
    "import requests as req\n",
    "from bs4 import BeautifulSoup\n",
    "from selenium import webdriver\n",
    "from selenium.webdriver.firefox.options import Options\n",
    "from selenium.webdriver.common.by import By\n",
    "from selenium.webdriver.firefox.service import Service as FirefoxService\n",
    "from selenium.webdriver.firefox.firefox_binary import FirefoxBinary\n",
    "from webdriver_manager.firefox import GeckoDriverManager\n",
    "\n",
    "PATH=FirefoxService(GeckoDriverManager().install())\n",
    "binary = FirefoxBinary(r'C:\\Program Files\\Mozilla Firefox\\Firefox.exe')\n",
    "\n",
    "opciones=Options()"
   ]
  },
  {
   "cell_type": "code",
   "execution_count": 3,
   "metadata": {},
   "outputs": [],
   "source": [
    "line_dict = {}\n",
    "\n",
    "def table_extractor(k):\n",
    "    driver = webdriver.Firefox(firefox_binary=binary,options = opciones)\n",
    "    url = 'https://es.wikipedia.org/wiki/L%C3%ADnea_'+ str(k) +'_(Metro_de_Madrid)'\n",
    "    xpath1 = '/html/body/div[3]/div[3]/div[5]/div[1]/table[2]'\n",
    "    xpath2 = '/html/body/div[3]/div[3]/div[5]/div[1]/table[3]'\n",
    "    driver.get(url)\n",
    "    try:\n",
    "        x1 = zip([j.get_attribute('title') for i in driver.find_element(By.XPATH, xpath1).find_elements(By.XPATH, 'tbody/tr') for j in i.find_elements(By.XPATH, 'td/a')],[j.text for i in driver.find_element(By.XPATH, xpath1).find_elements(By.XPATH, 'tbody/tr') for j in i.find_elements(By.XPATH, 'td/a')])\n",
    "    except:\n",
    "        x1 = []\n",
    "    try:\n",
    "        x2 = zip([j.get_attribute('title') for i in driver.find_element(By.XPATH, xpath2).find_elements(By.XPATH, 'tbody/tr') for j in i.find_elements(By.XPATH, 'td/a')],[j.text for i in driver.find_element(By.XPATH, xpath2).find_elements(By.XPATH, 'tbody/tr') for j in i.find_elements(By.XPATH, 'td/a')])\n",
    "    except:\n",
    "        x2 = []\n",
    "    driver.quit()\n",
    "    return [x1,x2]"
   ]
  },
  {
   "cell_type": "code",
   "execution_count": 4,
   "metadata": {},
   "outputs": [
    {
     "name": "stderr",
     "output_type": "stream",
     "text": [
      "C:\\Users\\jorge\\AppData\\Local\\Temp\\ipykernel_9460\\2529243415.py:19: DeprecationWarning: firefox_binary has been deprecated, please pass in a Service object\n",
      "  driver = webdriver.Firefox(firefox_binary=binary,options = opciones)\n"
     ]
    }
   ],
   "source": [
    "for i in range(1,11):\n",
    "    line_dict[i] = table_extractor(i)"
   ]
  },
  {
   "cell_type": "code",
   "execution_count": 7,
   "metadata": {},
   "outputs": [],
   "source": [
    "line_dict = {k: [list(filter(lambda x: x[0] not in {'Cercanías Madrid', 'Mantenimiento'}, x)) for x in v] for k,v in line_dict.items()}"
   ]
  },
  {
   "cell_type": "code",
   "execution_count": 11,
   "metadata": {},
   "outputs": [],
   "source": [
    "with open('raw_metro_data.json', 'w') as fp: # write raw file\n",
    "    json.dump(line_dict,fp)"
   ]
  }
 ],
 "metadata": {
  "kernelspec": {
   "display_name": "Python 3",
   "language": "python",
   "name": "python3"
  },
  "language_info": {
   "codemirror_mode": {
    "name": "ipython",
    "version": 3
   },
   "file_extension": ".py",
   "mimetype": "text/x-python",
   "name": "python",
   "nbconvert_exporter": "python",
   "pygments_lexer": "ipython3",
   "version": "3.11.2"
  },
  "orig_nbformat": 4,
  "vscode": {
   "interpreter": {
    "hash": "a7e99fc97798e89b261cde3357a501ac015a62222315f9b6d785016d0b13f1a9"
   }
  }
 },
 "nbformat": 4,
 "nbformat_minor": 2
}
