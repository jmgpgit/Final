{
 "cells": [
  {
   "cell_type": "code",
   "execution_count": 23,
   "metadata": {},
   "outputs": [],
   "source": [
    "import numpy as np\n",
    "import networkx as nx\n",
    "import pylab as plt\n",
    "from scipy.stats import norm,uniform,binom,poisson\n",
    "import random\n",
    "from functools import reduce\n",
    "from itertools import product\n",
    "from collections import deque\n",
    "import re\n",
    "from time import sleep\n",
    "import json\n",
    "import copy\n",
    "import unicodedata"
   ]
  },
  {
   "cell_type": "code",
   "execution_count": 24,
   "metadata": {},
   "outputs": [],
   "source": [
    "with open('raw_metro_data.json', 'r') as fp: \n",
    "    line_dict = json.load(fp)\n",
    "    line_dict = {int(key): value for key, value in line_dict.items()}\n"
   ]
  },
  {
   "cell_type": "code",
   "execution_count": 25,
   "metadata": {},
   "outputs": [],
   "source": [
    "line_dict = {\n",
    "    1: line_dict[1][0],\n",
    "    2: line_dict[2][0],\n",
    "    3: line_dict[3][0],\n",
    "    4: line_dict[4][1],\n",
    "    5: line_dict[5][1],\n",
    "    6: line_dict[6][0],\n",
    "    7: line_dict[7][1],\n",
    "    8: line_dict[8][1],\n",
    "    9: line_dict[9][1],\n",
    "    10: line_dict[10][0],\n",
    "}\n",
    "dict_copy = copy.deepcopy(line_dict)"
   ]
  },
  {
   "attachments": {},
   "cell_type": "markdown",
   "metadata": {},
   "source": [
    "### End Stations"
   ]
  },
  {
   "cell_type": "code",
   "execution_count": 26,
   "metadata": {},
   "outputs": [],
   "source": [
    "for key,val in dict_copy.items():\n",
    "    c = []\n",
    "    for k in val:\n",
    "        if k[0] == k[1]:\n",
    "            continue\n",
    "        elif bool(re.search(r'nea (\\d+)',k[0])):\n",
    "            continue\n",
    "        else:\n",
    "            c.append(k[0].replace(' ','_'))\n",
    "    dict_copy[key] = c\n",
    "\n",
    "end_nodes = {}\n",
    "for key,val in dict_copy.items():\n",
    "    end_nodes[key] = [val[0],val[-1]]\n",
    "\n",
    "with open('end_stations.json', 'w') as fp: # write clean file\n",
    "    json.dump(end_nodes,fp)"
   ]
  },
  {
   "attachments": {},
   "cell_type": "markdown",
   "metadata": {},
   "source": [
    "### ALL STATIONS"
   ]
  },
  {
   "cell_type": "code",
   "execution_count": 27,
   "metadata": {},
   "outputs": [],
   "source": [
    "for key,val in line_dict.items():\n",
    "    c = []\n",
    "    for i in val:\n",
    "        if i[0] == i[1]:\n",
    "            continue\n",
    "        elif i[1]:\n",
    "            c.append([i[1],[]])\n",
    "        \n",
    "        else:\n",
    "            try:\n",
    "                linea = re.search(r'nea (\\d+)',i[0]).group(1)\n",
    "                if linea == str(key):\n",
    "                    continue\n",
    "                c[-1][1].append(int(linea))\n",
    "            except:\n",
    "                continue\n",
    "            \n",
    "    line_dict[key] = c"
   ]
  },
  {
   "cell_type": "code",
   "execution_count": 28,
   "metadata": {},
   "outputs": [],
   "source": [
    "def remove_accents(input_str):\n",
    "    nfkd_form = unicodedata.normalize('NFKD', input_str)\n",
    "    only_ascii = nfkd_form.encode('ASCII', 'ignore')\n",
    "    encoding = \"utf-8\"\n",
    "    return only_ascii.decode(encoding)\n",
    "\n",
    "for key,val in line_dict.items():\n",
    "    for i in range(len(val)):\n",
    "        val[i][0] = remove_accents(val[i][0].lower())"
   ]
  },
  {
   "cell_type": "code",
   "execution_count": 29,
   "metadata": {},
   "outputs": [],
   "source": [
    "with open('clean_metro_data.json', 'w') as fp: # write clean file\n",
    "    json.dump(line_dict,fp)"
   ]
  },
  {
   "attachments": {},
   "cell_type": "markdown",
   "metadata": {},
   "source": [
    "### Cleaning End Station Coordinates"
   ]
  },
  {
   "cell_type": "code",
   "execution_count": 30,
   "metadata": {},
   "outputs": [],
   "source": [
    "with open('End_Stations_Coordinates_Dirty.json', 'r') as fp: # Load path for top 10 song data for each artist in our dataset\n",
    "    coords = json.load(fp)"
   ]
  },
  {
   "cell_type": "code",
   "execution_count": 31,
   "metadata": {},
   "outputs": [],
   "source": [
    "coords = { remove_accents(k.lower())[12:].replace('_',' ') :v for k,v in coords.items()}"
   ]
  },
  {
   "cell_type": "code",
   "execution_count": 32,
   "metadata": {},
   "outputs": [],
   "source": [
    "split_coords = {}\n",
    "for keys,vals in coords.items():\n",
    "    x = re.search(r'(\\d+°\\d+′\\d+).*(\\d+°\\d+′\\d+)',vals)\n",
    "    split_coords[keys] = ([re.split('[°′]',x.group(1)),re.split('[°′]',x.group(2))])\n",
    "for key,val in split_coords.items():\n",
    "    split_coords[key] = [float(val[0][0]) + float(val[0][1])/60 + float(val[0][2])/3600,-(float(val[1][0]) + float(val[1][1])/60 + float(val[1][2])/3600)]"
   ]
  },
  {
   "cell_type": "code",
   "execution_count": 33,
   "metadata": {},
   "outputs": [
    {
     "data": {
      "text/plain": [
       "{'pinar de chamartin': [40.48027777777778, -3.6666666666666665],\n",
       " 'valdecarros': [40.36, -3.593055555555556],\n",
       " 'las rosas': [40.42388888888889, -3.6036111111111113],\n",
       " 'cuatro caminos': [40.44694444444444, -3.7038888888888892],\n",
       " 'moncloa': [40.43444444444444, -3.7194444444444446],\n",
       " 'villaverde alto': [40.34138888888889, -3.711388888888889],\n",
       " 'arguelles': [40.43055555555555, -3.716388888888889],\n",
       " 'casa de campo': [40.403055555555554, -3.761111111111111],\n",
       " 'alameda de osuna': [40.4575, -3.5880555555555556],\n",
       " 'laguna': [40.399166666666666, -3.7444444444444445],\n",
       " 'carpetana': [40.3925, -3.741388888888889],\n",
       " 'pitis': [40.495, -3.7266666666666666],\n",
       " 'hospital del henares': [40.4175, -3.5344444444444445],\n",
       " 'aeropuerto t4': [40.49138888888889, -3.5941666666666667],\n",
       " 'nuevos ministerios': [40.44638888888888, -3.6919444444444447],\n",
       " 'paco de lucia': [40.499722222222225, -3.7097222222222226],\n",
       " 'arganda del rey': [40.30361111111111, -3.4475000000000002],\n",
       " 'puerta del sur': [40.34527777777778, -3.812222222222222],\n",
       " 'hospital infanta sofia': [40.55972222222222, -3.611388888888889]}"
      ]
     },
     "execution_count": 33,
     "metadata": {},
     "output_type": "execute_result"
    }
   ],
   "source": [
    "split_coords"
   ]
  },
  {
   "cell_type": "code",
   "execution_count": 34,
   "metadata": {},
   "outputs": [],
   "source": [
    "def convert_to_grid(lat,lon,grid_size):\n",
    "    x = (lon*np.pi/180 + 180) * (grid_size / 360)\n",
    "    y = (grid_size / np.pi) * np.log(np.tan(np.pi/4 + lat*np.pi/360))\n",
    "    return [x,y]"
   ]
  },
  {
   "cell_type": "code",
   "execution_count": 35,
   "metadata": {},
   "outputs": [],
   "source": [
    "end_coords_grid = {k : convert_to_grid(v[0],v[1],100) for k,v in split_coords.items()}"
   ]
  },
  {
   "cell_type": "code",
   "execution_count": 36,
   "metadata": {},
   "outputs": [
    {
     "data": {
      "text/plain": [
       "{'pinar de chamartin': [49.98222349835932, 24.63371335664806],\n",
       " 'valdecarros': [49.98258037509681, 24.545942306783072],\n",
       " 'las rosas': [49.982529200319355, 24.592544802153203],\n",
       " 'cuatro caminos': [49.98204303993357, 24.60937309086584],\n",
       " 'moncloa': [49.98196762447206, 24.600248603728325],\n",
       " 'villaverde alto': [49.98200667890749, 24.532375105903586],\n",
       " 'arguelles': [49.98198243822343, 24.597410220364402],\n",
       " 'casa de campo': [49.98176561877161, 24.577343477350173],\n",
       " 'alameda de osuna': [49.982604615780865, 24.617079534977655],\n",
       " 'laguna': [49.98184642105179, 24.5745064178545],\n",
       " 'carpetana': [49.981861234803155, 24.569643268530236],\n",
       " 'pitis': [49.98193261015066, 24.64446748821016],\n",
       " 'hospital del henares': [49.98286452978212, 24.587882562171476],\n",
       " 'aeropuerto t4': [49.982574988278124, 24.64182946398975],\n",
       " 'nuevos ministerios': [49.982100948234375, 24.60896752207378],\n",
       " 'paco de lucia': [49.98201475913551, 24.64791742642667],\n",
       " 'arganda del rey': [49.98328604834375, 24.504847217355234],\n",
       " 'puerta del sur': [49.98151782511237, 24.535209733993067],\n",
       " 'hospital infanta sofia': [49.9824914925886, 24.69177310105923]}"
      ]
     },
     "execution_count": 36,
     "metadata": {},
     "output_type": "execute_result"
    }
   ],
   "source": [
    "end_coords_grid"
   ]
  },
  {
   "cell_type": "code",
   "execution_count": 37,
   "metadata": {},
   "outputs": [],
   "source": [
    "import pandas as pd\n",
    "x = pd.DataFrame(end_coords_grid).T\n",
    "lon_max, lon_min = x[0].max(), x[0].min()\n",
    "lat_max, lat_min = x[1].max(), x[1].min()\n",
    "lon_diff,lat_diff = lon_max-lon_min,lat_max-lat_min"
   ]
  },
  {
   "cell_type": "code",
   "execution_count": 38,
   "metadata": {},
   "outputs": [],
   "source": [
    "end_coords_normalize = {}\n",
    "for key,val in end_coords_grid.items():\n",
    "    end_coords_normalize[key] = [100*(val[0]-lon_min)/lon_diff,100*(val[1]-lat_min)/lat_diff]"
   ]
  },
  {
   "cell_type": "code",
   "execution_count": 39,
   "metadata": {},
   "outputs": [],
   "source": [
    "with open('end_stations_coordinates_clean.json', 'w') as fp: # write clean file\n",
    "    json.dump(end_coords_normalize,fp)"
   ]
  },
  {
   "cell_type": "code",
   "execution_count": 40,
   "metadata": {},
   "outputs": [],
   "source": [
    "y = pd.DataFrame(end_coords_normalize).T"
   ]
  },
  {
   "cell_type": "code",
   "execution_count": 41,
   "metadata": {},
   "outputs": [
    {
     "data": {
      "text/plain": [
       "<Axes: xlabel='0', ylabel='1'>"
      ]
     },
     "execution_count": 41,
     "metadata": {},
     "output_type": "execute_result"
    },
    {
     "data": {
      "image/png": "[encoded data removed]",
      "text/plain": [
       "<Figure size 640x480 with 1 Axes>"
      ]
     },
     "metadata": {},
     "output_type": "display_data"
    }
   ],
   "source": [
    "y.plot.scatter(x=0,y=1)"
   ]
  }
 ],
 "metadata": {
  "kernelspec": {
   "display_name": "Python 3",
   "language": "python",
   "name": "python3"
  },
  "language_info": {
   "codemirror_mode": {
    "name": "ipython",
    "version": 3
   },
   "file_extension": ".py",
   "mimetype": "text/x-python",
   "name": "python",
   "nbconvert_exporter": "python",
   "pygments_lexer": "ipython3",
   "version": "3.11.1"
  },
  "orig_nbformat": 4
 },
 "nbformat": 4,
 "nbformat_minor": 2
}
